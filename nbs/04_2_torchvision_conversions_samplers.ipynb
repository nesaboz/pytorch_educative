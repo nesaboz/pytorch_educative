{
 "cells": [
  {
   "cell_type": "markdown",
   "id": "384dc9d1",
   "metadata": {},
   "source": [
    "# Torchvision, Conversions, Samplers"
   ]
  },
  {
   "cell_type": "markdown",
   "id": "58f95698",
   "metadata": {},
   "source": [
    "Here we'll take a problem of binary image classifing."
   ]
  },
  {
   "cell_type": "code",
   "execution_count": null,
   "id": "d098ee3e",
   "metadata": {},
   "outputs": [
    {
     "data": {
      "text/html": [
       "<style>.container { width:80% !important; }</style>"
      ],
      "text/plain": [
       "<IPython.core.display.HTML object>"
      ]
     },
     "metadata": {},
     "output_type": "display_data"
    },
    {
     "name": "stdout",
     "output_type": "stream",
     "text": [
      "The autoreload extension is already loaded. To reload it, use:\n",
      "  %reload_ext autoreload\n"
     ]
    }
   ],
   "source": [
    "#|code-fold: true\n",
    "#|output: false\n",
    "from IPython.display import display, HTML\n",
    "display(HTML(\"<style>.container { width:80% !important; }</style>\"))\n",
    "\n",
    "import numpy as np\n",
    "import torch\n",
    "import torch.optim as optim\n",
    "import torch.nn as nn\n",
    "from pytorched.step_by_step import StepByStep\n",
    "import platform\n",
    "from PIL import Image\n",
    "import datetime\n",
    "import matplotlib.pyplot as plt\n",
    "from matplotlib import cm\n",
    "from torch.utils.data import DataLoader, Dataset, random_split, WeightedRandomSampler, SubsetRandomSampler\n",
    "from torchvision.transforms import Compose, ToTensor, Normalize, ToPILImage, RandomHorizontalFlip, Resize\n",
    "\n",
    "plt.style.use('fivethirtyeight')\n",
    "\n",
    "%load_ext autoreload\n",
    "%autoreload 2"
   ]
  },
  {
   "cell_type": "code",
   "execution_count": null,
   "id": "a982a48b",
   "metadata": {},
   "outputs": [],
   "source": [
    "#|code-fold: true \n",
    "def show_image(im, cmap=None):\n",
    "    fig = plt.figure(figsize=(3,3))\n",
    "    plt.imshow(im, cmap=cmap)\n",
    "    plt.grid(False)\n",
    "    plt.show()\n",
    "\n",
    "def gen_img(start, target, fill=1, img_size=10):\n",
    "    # Generates empty image\n",
    "    img = np.zeros((img_size, img_size), dtype=float)\n",
    "\n",
    "    start_row, start_col = None, None\n",
    "\n",
    "    if start > 0:\n",
    "        start_row = start\n",
    "    else:\n",
    "        start_col = np.abs(start)\n",
    "\n",
    "    if target == 0:\n",
    "        if start_row is None:\n",
    "            img[:, start_col] = fill\n",
    "        else:\n",
    "            img[start_row, :] = fill\n",
    "    else:\n",
    "        if start_col == 0:\n",
    "            start_col = 1\n",
    "        \n",
    "        if target == 1:\n",
    "            if start_row is not None:\n",
    "                up = (range(start_row, -1, -1), \n",
    "                      range(0, start_row + 1))\n",
    "            else:\n",
    "                up = (range(img_size - 1, start_col - 1, -1), \n",
    "                      range(start_col, img_size))\n",
    "            img[up] = fill\n",
    "        else:\n",
    "            if start_row is not None:\n",
    "                down = (range(start_row, img_size, 1), \n",
    "                        range(0, img_size - start_row))\n",
    "            else:\n",
    "                down = (range(0, img_size - 1 - start_col + 1), \n",
    "                        range(start_col, img_size))\n",
    "            img[down] = fill\n",
    "    \n",
    "    return 255 * img.reshape(1, img_size, img_size)\n",
    "\n",
    "\n",
    "def generate_dataset(img_size=10, n_images=100, binary=True, seed=17):\n",
    "    np.random.seed(seed)\n",
    "\n",
    "    starts = np.random.randint(-(img_size - 1), img_size, size=(n_images,))\n",
    "    targets = np.random.randint(0, 3, size=(n_images,))\n",
    "    \n",
    "    images = np.array([gen_img(s, t, img_size=img_size) \n",
    "                       for s, t in zip(starts, targets)], dtype=np.uint8)\n",
    "    \n",
    "    if binary:\n",
    "        targets = (targets > 0).astype(int)\n",
    "    \n",
    "    return images, targets\n",
    "\n",
    "def plot_images(images, targets, n_plot=30):\n",
    "    n_rows = n_plot // 6 + ((n_plot % 6) > 0)\n",
    "    fig, axes = plt.subplots(n_rows, 6, figsize=(9, 1.5 * n_rows))\n",
    "    axes = np.atleast_2d(axes)\n",
    "    \n",
    "    for i, (image, target) in enumerate(zip(images[:n_plot], targets[:n_plot])):\n",
    "        row, col = i // 6, i % 6    \n",
    "        ax = axes[row, col]\n",
    "        ax.set_title('#{} - Label:{}'.format(i, target), {'size': 12})\n",
    "        # plot filter channel in grayscale\n",
    "        ax.imshow(image.squeeze(), cmap='gray', vmin=0, vmax=1)\n",
    "\n",
    "    for ax in axes.flat:\n",
    "        ax.set_xticks([])\n",
    "        ax.set_yticks([])\n",
    "        ax.label_outer()\n",
    "\n",
    "    plt.tight_layout()\n",
    "    return fig\n",
    "\n",
    "class TransformedTensorDataset(Dataset):\n",
    "    def __init__(self, x, y, transform=None):\n",
    "        self.x = x\n",
    "        self.y = y\n",
    "        self.transform = transform\n",
    "        \n",
    "    def __getitem__(self, index):\n",
    "        x = self.x[index]\n",
    "        \n",
    "        if self.transform:\n",
    "            x = self.transform(x)\n",
    "        \n",
    "        return x, self.y[index]\n",
    "        \n",
    "    def __len__(self):\n",
    "        return len(self.x)"
   ]
  },
  {
   "cell_type": "code",
   "execution_count": null,
   "id": "97ae90a7",
   "metadata": {},
   "outputs": [],
   "source": [
    "#|code-fold: true\n",
    "#|output: false\n",
    "images, labels = generate_dataset(img_size=5, n_images=300, binary=True, seed=13)\n",
    "x_tensor = torch.as_tensor(images / 255.).float()\n",
    "y_tensor = torch.as_tensor(labels.reshape(-1, 1)).float()  # reshaped this to (N,1) tensor\n",
    "torch.manual_seed(13)\n",
    "N = len(x_tensor)\n",
    "n_train = int(.8*N)\n",
    "n_val = N - n_train\n",
    "train_subset, val_subset = random_split(x_tensor, [n_train, n_val])\n",
    "train_idx = train_subset.indices\n",
    "val_idx = val_subset.indices\n",
    "\n",
    "#|code-fold: true\n",
    "#|output: false\n",
    "lr = 0.1\n",
    "\n",
    "# Now we can create a model\n",
    "model_deeper = nn.Sequential()\n",
    "model_deeper.add_module('flatten', nn.Flatten())\n",
    "model_deeper.add_module('linear1', nn.Linear(25, 10, bias=True))\n",
    "model_deeper.add_module('relu', nn.ReLU())\n",
    "model_deeper.add_module('linear2', nn.Linear(10, 1, bias=True))\n",
    "model_deeper.add_module('sigmoid', nn.Sigmoid())\n",
    "\n",
    "# Defines a SGD optimizer to update the parameters \n",
    "optimizer_deeper = optim.SGD(model_deeper.parameters(), lr=lr)\n",
    "\n",
    "# Defines a binary cross entropy loss function\n",
    "binary_loss_fn = nn.BCELoss()\n",
    "sbs_deeper = StepByStep(model_deeper, optimizer_deeper, binary_loss_fn)"
   ]
  },
  {
   "cell_type": "markdown",
   "id": "5e291370",
   "metadata": {},
   "source": [
    "## Note on NCHW vs NHWC formats"
   ]
  },
  {
   "cell_type": "markdown",
   "id": "620bdc5c",
   "metadata": {},
   "source": [
    "The format for images is different between libraries:\n",
    "- PyTorch uses NCHW\n",
    "- TensorFlow uses NHWC\n",
    "- PIL/Matplotlib images are HWC."
   ]
  },
  {
   "cell_type": "code",
   "execution_count": null,
   "id": "4ddaef20",
   "metadata": {},
   "outputs": [],
   "source": [
    "image_r  = np.zeros((5, 5), dtype=np.uint8)\n",
    "image_r[:, 0] = 255\n",
    "image_r[:, 1] = 128\n",
    "\n",
    "image_g = np.zeros((5, 5), dtype=np.uint8)\n",
    "image_g[:, 1] = 128\n",
    "image_g[:, 2] = 255\n",
    "image_g[:, 3] = 128\n",
    "\n",
    "image_b = np.zeros((5, 5), dtype=np.uint8)\n",
    "image_b[:, 3] = 128\n",
    "image_b[:, 4] = 255"
   ]
  },
  {
   "cell_type": "code",
   "execution_count": null,
   "id": "d1f8c939",
   "metadata": {},
   "outputs": [
    {
     "data": {
      "image/png": "[encoded data removed]",
      "text/plain": [
       "<Figure size 300x300 with 1 Axes>"
      ]
     },
     "metadata": {},
     "output_type": "display_data"
    },
    {
     "data": {
      "image/png": "[encoded data removed]",
      "text/plain": [
       "<Figure size 300x300 with 1 Axes>"
      ]
     },
     "metadata": {},
     "output_type": "display_data"
    }
   ],
   "source": [
    "#|code-fold: true\n",
    "#|output: false\n",
    "show_image(image_r, 'gray')\n",
    "zeros = np.zeros((5,5), dtype=np.uint8)\n",
    "stacked_red = np.zeros((5,5,3), dtype=np.uint8)  # the format is HxWxX (height X width X channel)\n",
    "stacked_red[:,:,0] = image_r  \n",
    "# also same thing can be achieved stacked_red = np.stack([image_r, zeros, zeros], axis=2)\n",
    "show_image(stacked_red)"
   ]
  },
  {
   "cell_type": "code",
   "execution_count": null,
   "id": "f071a76f",
   "metadata": {},
   "outputs": [],
   "source": [
    "#|code-fold: true\n",
    "def image_channels(red, green, blue, rgb, gray, rows=(0, 1, 2)):\n",
    "    fig, axs = plt.subplots(len(rows), 4, figsize=(15, 5.5))\n",
    "\n",
    "    zeros = np.zeros((5, 5), dtype=np.uint8)\n",
    "\n",
    "    titles1 = ['Red', 'Green', 'Blue', 'Grayscale Image']\n",
    "    titles0 = ['image_r', 'image_g', 'image_b', 'image_gray']\n",
    "    titles2 = ['as first channel', 'as second channel', 'as third channel', 'RGB Image']\n",
    "\n",
    "    idx0 = np.argmax(np.array(rows) == 0)\n",
    "    idx1 = np.argmax(np.array(rows) == 1)\n",
    "    idx2 = np.argmax(np.array(rows) == 2)\n",
    "    \n",
    "    for i, m in enumerate([red, green, blue, gray]):\n",
    "        if 0 in rows:\n",
    "            axs[idx0, i].axis('off')\n",
    "            axs[idx0, i].invert_yaxis()\n",
    "            if (1 in rows) or (i < 3):\n",
    "                axs[idx0, i].text(0.15, 0.25, str(m.astype(np.uint8)), verticalalignment='top')    \n",
    "                axs[idx0, i].set_title(titles0[i], fontsize=16)\n",
    "\n",
    "        if 1 in rows:\n",
    "            axs[idx1, i].set_title(titles1[i], fontsize=16)\n",
    "            axs[idx1, i].set_xlabel('5x5', fontsize=14)\n",
    "            axs[idx1, i].imshow(m, cmap=plt.cm.gray)\n",
    "\n",
    "        if 2 in rows:\n",
    "            axs[idx2, i].set_title(titles2[i], fontsize=16)\n",
    "            axs[idx2, i].set_xlabel(f'5x5x3 - {titles1[i][0]} only', fontsize=14)\n",
    "            if i < 3:\n",
    "                stacked = [zeros] * 3\n",
    "                stacked[i] = m\n",
    "                axs[idx2, i].imshow(np.stack(stacked, axis=2))\n",
    "            else:\n",
    "                axs[idx2, i].imshow(rgb)\n",
    "\n",
    "        for r in [1, 2]:\n",
    "            if r in rows:\n",
    "                idx = idx1 if r == 1 else idx2\n",
    "                axs[idx, i].set_xticks([])\n",
    "                axs[idx, i].set_yticks([])\n",
    "                for k, v in axs[idx, i].spines.items():\n",
    "                    v.set_color('black')\n",
    "                    v.set_linewidth(.8)\n",
    "\n",
    "    if 1 in rows:\n",
    "        axs[idx1, 0].set_ylabel('Single\\nChannel\\n(grayscale)', rotation=0, labelpad=40, fontsize=12)\n",
    "        axs[idx1, 3].set_xlabel('5x5 = 0.21R + 0.72G + 0.07B')\n",
    "    if 2 in rows:\n",
    "        axs[idx2, 0].set_ylabel('Three\\nChannels\\n(color)', rotation=0, labelpad=40, fontsize=12)\n",
    "        axs[idx2, 3].set_xlabel('5x5x3 = (R, G, B) stacked')\n",
    "    fig.tight_layout()\n",
    "    return fig\n"
   ]
  },
  {
   "cell_type": "code",
   "execution_count": null,
   "id": "bb28e63d",
   "metadata": {},
   "outputs": [
    {
     "data": {
      "image/png": "[encoded data removed]",
      "text/plain": [
       "<Figure size 1500x550 with 8 Axes>"
      ]
     },
     "metadata": {},
     "output_type": "display_data"
    }
   ],
   "source": [
    "image_gray = .2126*image_r + .7152*image_g + .0722*image_b\n",
    "image_rgb = np.stack([image_r, image_g, image_b], axis=2)\n",
    "fig = image_channels(image_r, image_g, image_b, image_rgb, image_gray, rows=(0, 1))"
   ]
  },
  {
   "cell_type": "code",
   "execution_count": null,
   "id": "0fea6400",
   "metadata": {},
   "outputs": [
    {
     "data": {
      "image/png": "[encoded data removed]",
      "text/plain": [
       "<Figure size 1500x550 with 8 Axes>"
      ]
     },
     "metadata": {},
     "output_type": "display_data"
    }
   ],
   "source": [
    "fig = image_channels(image_r, image_g, image_b, image_rgb, image_gray, rows=(0, 2))"
   ]
  },
  {
   "cell_type": "markdown",
   "id": "0e544a4c",
   "metadata": {},
   "source": [
    "## Note on Torchvision"
   ]
  },
  {
   "cell_type": "markdown",
   "id": "cfc4d86c",
   "metadata": {},
   "source": [
    "[`torchvision`](https://pytorch.org/vision/0.14/) has many existing `Datasets`, `Models`, and `Transformations`."
   ]
  },
  {
   "cell_type": "markdown",
   "id": "6e2ab77f",
   "metadata": {},
   "source": [
    "### Conversion between ndarray, PIL, and tensor"
   ]
  },
  {
   "cell_type": "code",
   "execution_count": null,
   "id": "4c9275db",
   "metadata": {},
   "outputs": [
    {
     "data": {
      "text/plain": [
       "(300, 1, 5, 5)"
      ]
     },
     "execution_count": null,
     "metadata": {},
     "output_type": "execute_result"
    }
   ],
   "source": [
    "images.shape"
   ]
  },
  {
   "cell_type": "code",
   "execution_count": null,
   "id": "b1634990",
   "metadata": {},
   "outputs": [
    {
     "data": {
      "text/plain": [
       "array([[[  0,   0, 255,   0,   0],\n",
       "        [  0, 255,   0,   0,   0],\n",
       "        [255,   0,   0,   0,   0],\n",
       "        [  0,   0,   0,   0,   0],\n",
       "        [  0,   0,   0,   0,   0]]], dtype=uint8)"
      ]
     },
     "execution_count": null,
     "metadata": {},
     "output_type": "execute_result"
    }
   ],
   "source": [
    "example_chw = images[3]\n",
    "example_chw"
   ]
  },
  {
   "cell_type": "code",
   "execution_count": null,
   "id": "a12a458b",
   "metadata": {},
   "outputs": [
    {
     "data": {
      "text/plain": [
       "(1, 5, 5)"
      ]
     },
     "execution_count": null,
     "metadata": {},
     "output_type": "execute_result"
    }
   ],
   "source": [
    "example_chw.shape"
   ]
  },
  {
   "cell_type": "code",
   "execution_count": null,
   "id": "5fc5495a",
   "metadata": {},
   "outputs": [
    {
     "data": {
      "text/plain": [
       "(5, 5, 1)"
      ]
     },
     "execution_count": null,
     "metadata": {},
     "output_type": "execute_result"
    }
   ],
   "source": [
    "example_hwc = np.transpose(example_chw, (1,2,0))\n",
    "example_hwc.shape"
   ]
  },
  {
   "cell_type": "code",
   "execution_count": null,
   "id": "febb7bfe",
   "metadata": {},
   "outputs": [
    {
     "data": {
      "image/png": "[encoded data removed]",
      "text/plain": [
       "<Figure size 300x300 with 1 Axes>"
      ]
     },
     "metadata": {},
     "output_type": "display_data"
    }
   ],
   "source": [
    "show_image(example_hwc, 'gray')"
   ]
  },
  {
   "cell_type": "markdown",
   "id": "59b2db65",
   "metadata": {},
   "source": [
    "`ToTensor`:\n",
    "Converts a PIL Image or numpy.ndarray (H x W x C) in the range\n",
    "[0, 255] to a torch.FloatTensor of shape (C x H x W) in the range [0.0, 1.0]\n",
    "if the PIL Image belongs to one of the modes (L, LA, P, I, F, RGB, YCbCr, RGBA, CMYK, 1)\n",
    "or if the numpy.ndarray has dtype = np.uint8\n",
    "\n",
    "`torch.as_tensor` can work on N-dimensional arrays (ToTensor works only on 2D/3D images), but doesn't apply scalling and, just fyi, it shares data i.e. doesn't make a copy."
   ]
  },
  {
   "cell_type": "code",
   "execution_count": null,
   "id": "60bb815c",
   "metadata": {},
   "outputs": [
    {
     "data": {
      "text/plain": [
       "torch.Size([1, 5, 5])"
      ]
     },
     "execution_count": null,
     "metadata": {},
     "output_type": "execute_result"
    }
   ],
   "source": [
    "tensorizer = ToTensor()\n",
    "example_tensor = tensorizer(example_hwc)\n",
    "example_tensor.shape"
   ]
  },
  {
   "cell_type": "code",
   "execution_count": null,
   "id": "b1e2c817",
   "metadata": {},
   "outputs": [
    {
     "data": {
      "text/plain": [
       "tensor([[[0., 0., 1., 0., 0.],\n",
       "         [0., 1., 0., 0., 0.],\n",
       "         [1., 0., 0., 0., 0.],\n",
       "         [0., 0., 0., 0., 0.],\n",
       "         [0., 0., 0., 0., 0.]]])"
      ]
     },
     "execution_count": null,
     "metadata": {},
     "output_type": "execute_result"
    }
   ],
   "source": [
    "example_tensor"
   ]
  },
  {
   "cell_type": "code",
   "execution_count": null,
   "id": "620db8e0",
   "metadata": {},
   "outputs": [
    {
     "data": {
      "text/plain": [
       "torch.Tensor"
      ]
     },
     "execution_count": null,
     "metadata": {},
     "output_type": "execute_result"
    }
   ],
   "source": [
    "type(example_tensor)"
   ]
  },
  {
   "cell_type": "code",
   "execution_count": null,
   "id": "5c600c25",
   "metadata": {},
   "outputs": [
    {
     "name": "stdout",
     "output_type": "stream",
     "text": [
      "<class 'PIL.Image.Image'>\n"
     ]
    }
   ],
   "source": [
    "example_pil = ToPILImage()(example_tensor)  # similar to np.transpose(example_tensor, (1,2,0))\n",
    "print(type(example_pil))"
   ]
  },
  {
   "cell_type": "code",
   "execution_count": null,
   "id": "73beef35",
   "metadata": {},
   "outputs": [
    {
     "data": {
      "image/png": "[encoded data removed]",
      "text/plain": [
       "<Figure size 300x300 with 1 Axes>"
      ]
     },
     "metadata": {},
     "output_type": "display_data"
    }
   ],
   "source": [
    "show_image(example_pil, 'gray')"
   ]
  },
  {
   "cell_type": "markdown",
   "id": "f54bd2b6",
   "metadata": {},
   "source": [
    "To convert between Tensor and Numpy:"
   ]
  },
  {
   "cell_type": "code",
   "execution_count": null,
   "id": "7b76703a",
   "metadata": {},
   "outputs": [
    {
     "name": "stdout",
     "output_type": "stream",
     "text": [
      "<class 'numpy.ndarray'>\n"
     ]
    }
   ],
   "source": [
    "example_np = example_tensor.detach().cpu().numpy()\n",
    "print(type(example_np))"
   ]
  },
  {
   "cell_type": "markdown",
   "id": "5c5f040d",
   "metadata": {},
   "source": [
    "To convert between numpy and PIL:"
   ]
  },
  {
   "cell_type": "code",
   "execution_count": null,
   "id": "1126d52e",
   "metadata": {},
   "outputs": [
    {
     "name": "stdout",
     "output_type": "stream",
     "text": [
      "<class 'numpy.ndarray'>\n"
     ]
    }
   ],
   "source": [
    "example_np = np.array(example_pil)\n",
    "print(type(example_np))"
   ]
  },
  {
   "cell_type": "code",
   "execution_count": null,
   "id": "0f41620e",
   "metadata": {},
   "outputs": [
    {
     "name": "stdout",
     "output_type": "stream",
     "text": [
      "<class 'PIL.Image.Image'>\n"
     ]
    }
   ],
   "source": [
    "example_pil_back = Image.fromarray(example_np)\n",
    "print(type(example_pil_back))"
   ]
  },
  {
   "cell_type": "markdown",
   "id": "39265cd0",
   "metadata": {},
   "source": [
    "more options for different PIL [modes](https://pillow.readthedocs.io/en/stable/handbook/concepts.html#modes): (L, LA, P, I, F, RGB, YCbCr, RGBA, CMYK, 1).\n"
   ]
  },
  {
   "cell_type": "markdown",
   "source": [
    "One has to be careful:\n",
    "- PIL gray images (L mode) need to be squeezed from 3D to 2D via np.squeeze()\n",
    "- RGB mode images should be floats between [0,1]\n",
    "- L mode (grayscale) images should be np.uint8 from [0,255]\n",
    "- 1 mode (bool) images are True or False."
   ],
   "metadata": {
    "collapsed": false
   }
  },
  {
   "cell_type": "code",
   "execution_count": null,
   "id": "e3d2ca83",
   "metadata": {},
   "outputs": [],
   "source": [
    "# PIL_image = Image.fromarray(np.uint8(example_np)).convert('RGB')\n",
    "# PIL_image = Image.fromarray(example_np.astype('uint8'), 'RGB')"
   ]
  },
  {
   "cell_type": "code",
   "execution_count": null,
   "id": "3e263598",
   "metadata": {},
   "outputs": [
    {
     "data": {
      "image/png": "[encoded data removed]",
      "text/plain": [
       "<Figure size 300x300 with 1 Axes>"
      ]
     },
     "metadata": {},
     "output_type": "display_data"
    }
   ],
   "source": [
    "show_image(example_pil_back, 'gray')"
   ]
  },
  {
   "cell_type": "markdown",
   "id": "c90914fa",
   "metadata": {},
   "source": [
    "### Transformations"
   ]
  },
  {
   "cell_type": "markdown",
   "id": "90240017",
   "metadata": {},
   "source": [
    "There are many [transformations](https://pytorch.org/vision/stable/transforms.html) that can be done on tensors and/or PIL images:"
   ]
  },
  {
   "cell_type": "code",
   "execution_count": null,
   "id": "f2e934af",
   "metadata": {},
   "outputs": [
    {
     "data": {
      "image/png": "[encoded data removed]",
      "text/plain": [
       "<Figure size 300x300 with 1 Axes>"
      ]
     },
     "metadata": {},
     "output_type": "display_data"
    }
   ],
   "source": [
    "flipper = RandomHorizontalFlip(p=1.0)\n",
    "show_image(flipper(example_pil), 'gray')"
   ]
  },
  {
   "cell_type": "code",
   "execution_count": null,
   "id": "65545389",
   "metadata": {},
   "outputs": [
    {
     "name": "stdout",
     "output_type": "stream",
     "text": [
      "tensor([[[0., 0., 1., 0., 0.],\n",
      "         [0., 1., 0., 0., 0.],\n",
      "         [1., 0., 0., 0., 0.],\n",
      "         [0., 0., 0., 0., 0.],\n",
      "         [0., 0., 0., 0., 0.]]])\n",
      "tensor([[[-1., -1.,  1., -1., -1.],\n",
      "         [-1.,  1., -1., -1., -1.],\n",
      "         [ 1., -1., -1., -1., -1.],\n",
      "         [-1., -1., -1., -1., -1.],\n",
      "         [-1., -1., -1., -1., -1.]]])\n"
     ]
    }
   ],
   "source": [
    "print(example_tensor)\n",
    "normalizer = Normalize(mean=.5, std=.5)\n",
    "normalized_tensor = normalizer(example_tensor)\n",
    "print(normalized_tensor)"
   ]
  },
  {
   "cell_type": "markdown",
   "id": "105fa7c9",
   "metadata": {},
   "source": [
    "### Composing transforms"
   ]
  },
  {
   "cell_type": "code",
   "execution_count": null,
   "id": "94e32c5d",
   "metadata": {},
   "outputs": [
    {
     "data": {
      "text/plain": [
       "tensor([[[-1., -1.,  1., -1., -1.],\n",
       "         [-1., -1., -1.,  1., -1.],\n",
       "         [-1., -1., -1., -1.,  1.],\n",
       "         [-1., -1., -1., -1., -1.],\n",
       "         [-1., -1., -1., -1., -1.]]])"
      ]
     },
     "execution_count": null,
     "metadata": {},
     "output_type": "execute_result"
    }
   ],
   "source": [
    "composer = Compose([RandomHorizontalFlip(p=1.0),\n",
    "                    Normalize(mean=(.5,), std=(.5,))])\n",
    "composer(example_tensor)"
   ]
  },
  {
   "cell_type": "code",
   "execution_count": null,
   "id": "4cd7ee56",
   "metadata": {},
   "outputs": [
    {
     "data": {
      "text/plain": [
       "tensor([[0., 0., 1., 0., 0.],\n",
       "        [0., 1., 0., 0., 0.],\n",
       "        [1., 0., 0., 0., 0.],\n",
       "        [0., 0., 0., 0., 0.],\n",
       "        [0., 0., 0., 0., 0.]])"
      ]
     },
     "execution_count": null,
     "metadata": {},
     "output_type": "execute_result"
    }
   ],
   "source": [
    "torch.as_tensor(example_np/255).float()"
   ]
  },
  {
   "cell_type": "markdown",
   "id": "23b8bac8",
   "metadata": {},
   "source": [
    "If we want to convert the whole numpy array to tensor we can use:"
   ]
  },
  {
   "cell_type": "code",
   "execution_count": null,
   "id": "d74b7011",
   "metadata": {},
   "outputs": [
    {
     "data": {
      "text/plain": [
       "tensor([[0., 0., 1., 0., 0.],\n",
       "        [0., 1., 0., 0., 0.],\n",
       "        [1., 0., 0., 0., 0.],\n",
       "        [0., 0., 0., 0., 0.],\n",
       "        [0., 0., 0., 0., 0.]])"
      ]
     },
     "execution_count": null,
     "metadata": {},
     "output_type": "execute_result"
    }
   ],
   "source": [
    "example_tensor = torch.as_tensor(example_np / 255).float()\n",
    "example_tensor"
   ]
  },
  {
   "cell_type": "markdown",
   "id": "eb93dfbd",
   "metadata": {},
   "source": [
    "PyTorch default floating point `dtype` is `torch.float32`, one can change this if needed via `torch.set_default_dtype(torch.float64)`."
   ]
  },
  {
   "cell_type": "markdown",
   "id": "9cf74cfe",
   "metadata": {},
   "source": [
    "## Samplers"
   ]
  },
  {
   "cell_type": "markdown",
   "id": "8aa7269a",
   "metadata": {},
   "source": [
    "One can also define a [`Sampler`](https://pytorch.org/docs/stable/data.html#data-loading-order-and-sampler) (and it's subclasses: `SequentialSampler`, `RandomSampler`, `SubsetRandomSampler`, `WeightedRandomSampler`, `BatchSampler`, and `DistributedSampler`), use `WeightedRandomSampler` for example in case data is unbalanced."
   ]
  },
  {
   "cell_type": "code",
   "execution_count": null,
   "id": "0949a84e",
   "metadata": {},
   "outputs": [],
   "source": [
    "composer = Compose([RandomHorizontalFlip(p=0.5),\n",
    "                    Normalize(mean=.5, std=.5)])\n",
    "\n",
    "dataset = TransformedTensorDataset(x_tensor, y_tensor, transform=composer)\n",
    "\n",
    "train_sampler = SubsetRandomSampler(train_idx)\n",
    "val_sampler = SubsetRandomSampler(val_idx)"
   ]
  },
  {
   "cell_type": "code",
   "execution_count": null,
   "id": "1174d9f8",
   "metadata": {},
   "outputs": [],
   "source": [
    "# Builds a loader of each set\n",
    "train_loader = DataLoader(dataset=dataset, batch_size=16, sampler=train_sampler)\n",
    "val_loader = DataLoader(dataset=dataset, batch_size=16, sampler=val_sampler)"
   ]
  },
  {
   "cell_type": "markdown",
   "id": "f7f63387",
   "metadata": {},
   "source": [
    "Note that we need `val_sampler` just because we are passing the full dataset."
   ]
  },
  {
   "cell_type": "markdown",
   "id": "35e83088",
   "metadata": {},
   "source": [
    "Also note that when using `Sampler`s, one can't use `shuffle=True` in `DataLoaders`."
   ]
  },
  {
   "cell_type": "code",
   "execution_count": null,
   "id": "d631b249",
   "metadata": {},
   "outputs": [
    {
     "data": {
      "text/plain": [
       "(15, 4)"
      ]
     },
     "execution_count": null,
     "metadata": {},
     "output_type": "execute_result"
    }
   ],
   "source": [
    "len(iter(train_loader)), len(iter(val_loader))"
   ]
  },
  {
   "cell_type": "markdown",
   "id": "c63a18e3",
   "metadata": {},
   "source": [
    "## Some Model methods"
   ]
  },
  {
   "cell_type": "markdown",
   "id": "3524821b",
   "metadata": {},
   "source": [
    "To see the layers:"
   ]
  },
  {
   "cell_type": "code",
   "execution_count": null,
   "id": "d6242ba3",
   "metadata": {},
   "outputs": [
    {
     "data": {
      "text/plain": [
       "Sequential(\n",
       "  (flatten): Flatten(start_dim=1, end_dim=-1)\n",
       "  (linear1): Linear(in_features=25, out_features=10, bias=True)\n",
       "  (relu): ReLU()\n",
       "  (linear2): Linear(in_features=10, out_features=1, bias=True)\n",
       "  (sigmoid): Sigmoid()\n",
       ")"
      ]
     },
     "execution_count": null,
     "metadata": {},
     "output_type": "execute_result"
    }
   ],
   "source": [
    "sbs_deeper.model"
   ]
  },
  {
   "cell_type": "code",
   "execution_count": null,
   "id": "e8ee467f",
   "metadata": {},
   "outputs": [
    {
     "data": {
      "text/plain": [
       "[('',\n",
       "  Sequential(\n",
       "    (flatten): Flatten(start_dim=1, end_dim=-1)\n",
       "    (linear1): Linear(in_features=25, out_features=10, bias=True)\n",
       "    (relu): ReLU()\n",
       "    (linear2): Linear(in_features=10, out_features=1, bias=True)\n",
       "    (sigmoid): Sigmoid()\n",
       "  )),\n",
       " ('flatten', Flatten(start_dim=1, end_dim=-1)),\n",
       " ('linear1', Linear(in_features=25, out_features=10, bias=True)),\n",
       " ('relu', ReLU()),\n",
       " ('linear2', Linear(in_features=10, out_features=1, bias=True)),\n",
       " ('sigmoid', Sigmoid())]"
      ]
     },
     "execution_count": null,
     "metadata": {},
     "output_type": "execute_result"
    }
   ],
   "source": [
    "list(sbs_deeper.model.named_modules())"
   ]
  },
  {
   "cell_type": "markdown",
   "id": "b9530dc2",
   "metadata": {},
   "source": [
    "To see particular weights in a layer:"
   ]
  },
  {
   "cell_type": "code",
   "execution_count": null,
   "id": "912eb07c",
   "metadata": {},
   "outputs": [
    {
     "data": {
      "text/plain": [
       "tensor([[ 0.1024,  0.2038,  0.2085, -0.2298,  0.1973, -0.2550,  0.2233, -0.0626,\n",
       "         -0.0030,  0.0018]])"
      ]
     },
     "execution_count": null,
     "metadata": {},
     "output_type": "execute_result"
    }
   ],
   "source": [
    "sbs_deeper.model.linear2.weight.detach()"
   ]
  },
  {
   "cell_type": "code",
   "execution_count": null,
   "id": "ba632bce",
   "metadata": {},
   "outputs": [
    {
     "data": {
      "text/plain": [
       "271"
      ]
     },
     "execution_count": null,
     "metadata": {},
     "output_type": "execute_result"
    }
   ],
   "source": [
    "sbs_deeper.count_parameters()"
   ]
  },
  {
   "cell_type": "markdown",
   "id": "e68c11b3",
   "metadata": {},
   "source": [
    "The 271 comes from: (25 * 10 + 10 biases) + (10 * 1 + 1 bias) = 260 + 11 = 271"
   ]
  },
  {
   "cell_type": "markdown",
   "id": "513b5966",
   "metadata": {},
   "source": [
    "to reset parameters I implemented [this](https://stackoverflow.com/questions/63627997/reset-parameters-of-a-neural-network-in-pytorch) way but this doesn't reset all parameters (for example in `nn.PReLU`) so use caution! "
   ]
  },
  {
   "cell_type": "code",
   "execution_count": null,
   "id": "e893a3bf",
   "metadata": {},
   "outputs": [],
   "source": [
    "sbs_deeper.reset_parameters()"
   ]
  }
 ],
 "metadata": {
  "kernelspec": {
   "display_name": "pytorched",
   "language": "python",
   "name": "pytorched"
  }
 },
 "nbformat": 4,
 "nbformat_minor": 5
}

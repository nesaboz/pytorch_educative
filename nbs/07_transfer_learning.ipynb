{
 "cells": [
  {
   "cell_type": "markdown",
   "id": "384dc9d1",
   "metadata": {},
   "source": [
    "# Transfer learning"
   ]
  },
  {
   "cell_type": "markdown",
   "id": "7b6b2e2b",
   "metadata": {},
   "source": [
    "Set the environment (for Google Colab):"
   ]
  },
  {
   "cell_type": "markdown",
   "id": "9b4250b8",
   "metadata": {},
   "source": [
    "If this is GoogleColab we download config and use it to download necesseary folders and files for this project (defined in `config.py`). Here we'll need:\n",
    "- `pytorched.step_by_step.py`\n",
    "- `data_preparation.rps.py`"
   ]
  },
  {
   "cell_type": "code",
   "execution_count": null,
   "id": "1fc9fda2",
   "metadata": {},
   "outputs": [
    {
     "name": "stdout",
     "output_type": "stream",
     "text": [
      "Not Google Colab environment.\n"
     ]
    }
   ],
   "source": [
    "#|code-fold: true\n",
    "#|output: false\n",
    "try:\n",
    "    import google.colab\n",
    "    !pip install numpy pandas matplotlib torchviz scikit-learn tensorboard torchvision torch tqdm torch-lr-finder\n",
    "\n",
    "    import requests\n",
    "    url = 'https://raw.githubusercontent.com/nesaboz/pytorched/main/config.py'\n",
    "    r = requests.get(url, allow_redirects=True)\n",
    "    open('config.py', 'wb').write(r.content)    \n",
    "except ModuleNotFoundError:\n",
    "    print('Not Google Colab environment.')\n",
    "\n",
    "\n",
    "from config import config_project\n",
    "config_project('transfer_learning')"
   ]
  },
  {
   "cell_type": "markdown",
   "id": "a60a2c96",
   "metadata": {},
   "source": [
    "We are now ready for imports:"
   ]
  },
  {
   "cell_type": "code",
   "execution_count": null,
   "id": "d52254a5",
   "metadata": {},
   "outputs": [
    {
     "name": "stdout",
     "output_type": "stream",
     "text": [
      "The autoreload extension is already loaded. To reload it, use:\n",
      "  %reload_ext autoreload\n"
     ]
    }
   ],
   "source": [
    "#|code-fold: true\n",
    "#|output: false\n",
    "import numpy as np\n",
    "from PIL import Image\n",
    "\n",
    "import torch\n",
    "import torch.optim as optim\n",
    "import torch.nn as nn\n",
    "import torch.nn.functional as F\n",
    "\n",
    "import matplotlib.pyplot as plt\n",
    "\n",
    "from torch.utils.data import DataLoader, Dataset, random_split, TensorDataset\n",
    "from torchvision.transforms import Compose, ToTensor, Normalize, Resize, ToPILImage, CenterCrop, RandomResizedCrop, InterpolationMode\n",
    "from torchvision.datasets import ImageFolder\n",
    "from torchvision.models import alexnet, resnet18, inception_v3\n",
    "from torchvision.models.alexnet import model_urls\n",
    "from torchvision.models import Inception_V3_Weights, AlexNet_Weights\n",
    "from torch.hub import load_state_dict_from_url\n",
    "from torchviz import make_dot\n",
    "\n",
    "from data_generation.rps import download_rps\n",
    "from pytorched.step_by_step import StepByStep, freeze_model, print_trainable_parameters\n",
    "\n",
    "plt.style.use('fivethirtyeight')\n",
    "\n",
    "%load_ext autoreload\n",
    "%autoreload 2"
   ]
  },
  {
   "cell_type": "markdown",
   "id": "cfa21f12",
   "metadata": {},
   "source": [
    "# AlexNet"
   ]
  },
  {
   "cell_type": "markdown",
   "id": "aa26147d",
   "metadata": {},
   "source": [
    "Let's try to use AlexNet model first to help us in the Rock-Paper-Scissors problem. We'll need to load AlexNet, with it's weights, then make a feature-extractor on our data loaders, modify the last layer, and train. Let's get to it: "
   ]
  },
  {
   "cell_type": "markdown",
   "id": "d6b48653",
   "metadata": {},
   "source": [
    "We can get AlexNet from torchvision.models:"
   ]
  },
  {
   "cell_type": "code",
   "execution_count": null,
   "id": "6c6cfb15",
   "metadata": {},
   "outputs": [
    {
     "data": {
      "text/plain": [
       "AlexNet(\n",
       "  (features): Sequential(\n",
       "    (0): Conv2d(3, 64, kernel_size=(11, 11), stride=(4, 4), padding=(2, 2))\n",
       "    (1): ReLU(inplace=True)\n",
       "    (2): MaxPool2d(kernel_size=3, stride=2, padding=0, dilation=1, ceil_mode=False)\n",
       "    (3): Conv2d(64, 192, kernel_size=(5, 5), stride=(1, 1), padding=(2, 2))\n",
       "    (4): ReLU(inplace=True)\n",
       "    (5): MaxPool2d(kernel_size=3, stride=2, padding=0, dilation=1, ceil_mode=False)\n",
       "    (6): Conv2d(192, 384, kernel_size=(3, 3), stride=(1, 1), padding=(1, 1))\n",
       "    (7): ReLU(inplace=True)\n",
       "    (8): Conv2d(384, 256, kernel_size=(3, 3), stride=(1, 1), padding=(1, 1))\n",
       "    (9): ReLU(inplace=True)\n",
       "    (10): Conv2d(256, 256, kernel_size=(3, 3), stride=(1, 1), padding=(1, 1))\n",
       "    (11): ReLU(inplace=True)\n",
       "    (12): MaxPool2d(kernel_size=3, stride=2, padding=0, dilation=1, ceil_mode=False)\n",
       "  )\n",
       "  (avgpool): AdaptiveAvgPool2d(output_size=(6, 6))\n",
       "  (classifier): Sequential(\n",
       "    (0): Dropout(p=0.5, inplace=False)\n",
       "    (1): Linear(in_features=9216, out_features=4096, bias=True)\n",
       "    (2): ReLU(inplace=True)\n",
       "    (3): Dropout(p=0.5, inplace=False)\n",
       "    (4): Linear(in_features=4096, out_features=4096, bias=True)\n",
       "    (5): ReLU(inplace=True)\n",
       "    (6): Linear(in_features=4096, out_features=1000, bias=True)\n",
       "  )\n",
       ")"
      ]
     },
     "execution_count": null,
     "metadata": {},
     "output_type": "execute_result"
    }
   ],
   "source": [
    "weights = AlexNet_Weights.IMAGENET1K_V1\n",
    "alex = alexnet(weights=weights)\n",
    "alex"
   ]
  },
  {
   "cell_type": "markdown",
   "id": "01c9a045",
   "metadata": {},
   "source": [
    "We need an original transform:"
   ]
  },
  {
   "cell_type": "code",
   "execution_count": null,
   "id": "dbb58cc7",
   "metadata": {},
   "outputs": [],
   "source": [
    "transform = weights.transforms()"
   ]
  },
  {
   "cell_type": "markdown",
   "id": "6fb3f52f",
   "metadata": {},
   "source": [
    "Let's now create new data loaders based on this transform:\n"
   ]
  },
  {
   "cell_type": "code",
   "execution_count": null,
   "id": "4365c8fa",
   "metadata": {},
   "outputs": [
    {
     "name": "stdout",
     "output_type": "stream",
     "text": [
      "rps folder already exists!\n",
      "rps-test-set folder already exists!\n"
     ]
    }
   ],
   "source": [
    "#|code-fold: true \n",
    "#|output: false\n",
    "download_rps()"
   ]
  },
  {
   "cell_type": "code",
   "execution_count": null,
   "id": "c6e2ac30",
   "metadata": {},
   "outputs": [],
   "source": [
    "train_dataset = ImageFolder(root='rps', transform=transform)\n",
    "val_dataset = ImageFolder(root='rps-test-set', transform=transform)"
   ]
  },
  {
   "cell_type": "code",
   "execution_count": null,
   "id": "c3d6cf32",
   "metadata": {},
   "outputs": [],
   "source": [
    "train_loader = DataLoader(train_dataset, 16, shuffle=True)\n",
    "val_loader = DataLoader(val_dataset, 16)"
   ]
  },
  {
   "cell_type": "markdown",
   "id": "836e7a71",
   "metadata": {},
   "source": [
    "Let's also define an optimizer and loss:"
   ]
  },
  {
   "cell_type": "code",
   "execution_count": null,
   "id": "f04ae589",
   "metadata": {},
   "outputs": [],
   "source": [
    "torch.manual_seed(17)\n",
    "optimizer = optim.Adam(alex.parameters(), 3e-4)\n",
    "loss_fn = nn.CrossEntropyLoss()\n",
    "sbs = StepByStep(alex, optimizer, loss_fn)\n",
    "sbs.set_loaders(train_loader, val_loader)"
   ]
  },
  {
   "cell_type": "markdown",
   "id": "c97e1981",
   "metadata": {},
   "source": [
    "# Feature-extractor\n"
   ]
  },
  {
   "cell_type": "markdown",
   "id": "5b52e675",
   "metadata": {},
   "source": [
    "These are current trainable parameters:"
   ]
  },
  {
   "cell_type": "code",
   "execution_count": null,
   "id": "08bb4172",
   "metadata": {},
   "outputs": [
    {
     "name": "stdout",
     "output_type": "stream",
     "text": [
      "features.0.weight\n",
      "features.0.bias\n",
      "features.3.weight\n",
      "features.3.bias\n",
      "features.6.weight\n",
      "features.6.bias\n",
      "features.8.weight\n",
      "features.8.bias\n",
      "features.10.weight\n",
      "features.10.bias\n",
      "classifier.1.weight\n",
      "classifier.1.bias\n",
      "classifier.4.weight\n",
      "classifier.4.bias\n",
      "classifier.6.weight\n",
      "classifier.6.bias\n"
     ]
    }
   ],
   "source": [
    "sbs.print_trainable_parameters()"
   ]
  },
  {
   "cell_type": "markdown",
   "id": "29abdd5b",
   "metadata": {},
   "source": [
    "We must freeze the model and replace the last layer. These are suggestions what layers to change (of course more layers can be left unfrozen but this requires more training data and longer times):"
   ]
  },
  {
   "cell_type": "markdown",
   "id": "d7af10c7",
   "metadata": {},
   "source": [
    "<img id=\"transfer_learning_layer_replacement\" src=\"images/transfer_learning_layer_replacement.jpg\"/>"
   ]
  },
  {
   "cell_type": "markdown",
   "id": "e7f5b2b7",
   "metadata": {},
   "source": [
    "so let's change the last layer first to Identity to make feature extractor:"
   ]
  },
  {
   "cell_type": "code",
   "execution_count": null,
   "id": "e59b5ae1",
   "metadata": {},
   "outputs": [],
   "source": [
    "sbs.model.classifier[6] = nn.Identity()"
   ]
  },
  {
   "cell_type": "code",
   "execution_count": null,
   "id": "4e8f5d57",
   "metadata": {},
   "outputs": [],
   "source": [
    "freeze_model(sbs.model)"
   ]
  },
  {
   "cell_type": "code",
   "execution_count": null,
   "id": "8e9c236f",
   "metadata": {},
   "outputs": [
    {
     "name": "stdout",
     "output_type": "stream",
     "text": [
      "No trainable parameters.\n"
     ]
    }
   ],
   "source": [
    "sbs.print_trainable_parameters()"
   ]
  },
  {
   "cell_type": "markdown",
   "id": "1e5bb30d",
   "metadata": {},
   "source": [
    "We now go throught the loader batch by batch and pass the data through the model in order to generate new preprocessed datasets: "
   ]
  },
  {
   "cell_type": "code",
   "execution_count": null,
   "id": "417f7bd7",
   "metadata": {},
   "outputs": [],
   "source": [
    "device = 'cuda' if torch.cuda.is_available() else 'cpu'"
   ]
  },
  {
   "cell_type": "code",
   "execution_count": null,
   "id": "f4b5b20b",
   "metadata": {},
   "outputs": [],
   "source": [
    "def preprocessed_dataset(model, loader, device=None):\n",
    "    \"\"\"\n",
    "    Runs all data in the loader through the model and returns a dataset.\n",
    "    \"\"\"\n",
    "    \n",
    "    features = torch.Tensor()\n",
    "    labels = torch.Tensor().type(torch.long)\n",
    "\n",
    "    if device is None:\n",
    "        device = next(model.parameters()).device\n",
    "\n",
    "    for i, (x_batch, y_batch) in enumerate(loader):\n",
    "        model.eval()\n",
    "        output = model(x_batch.to(device))\n",
    "        features = torch.cat([features, output.detach().cpu()])\n",
    "        labels = torch.cat([labels, y_batch.cpu()])\n",
    "\n",
    "    return TensorDataset(features, labels)"
   ]
  },
  {
   "cell_type": "code",
   "execution_count": null,
   "id": "46626932",
   "metadata": {},
   "outputs": [],
   "source": [
    "def test_preprocessed_dataset():\n",
    "    x = torch.rand(10,3,244,244)\n",
    "    y = torch.rand(10,1)\n",
    "    ds = TensorDataset(x,y)\n",
    "    dl = DataLoader(ds, 16, False)\n",
    "    tpp = preprocessed_dataset(alex, dl)\n",
    "    assert tpp.tensors[0].shape == torch.Size([10, 4096])"
   ]
  },
  {
   "cell_type": "code",
   "execution_count": null,
   "id": "a4ae23c4",
   "metadata": {},
   "outputs": [],
   "source": [
    "train_preproc = preprocessed_dataset(alex, train_loader)\n",
    "val_preproc = preprocessed_dataset(alex, val_loader)"
   ]
  },
  {
   "cell_type": "markdown",
   "id": "8ca59f4a",
   "metadata": {},
   "source": [
    "make sure that the tensort types are correct:"
   ]
  },
  {
   "cell_type": "code",
   "execution_count": null,
   "id": "0c683b7c",
   "metadata": {},
   "outputs": [],
   "source": [
    "assert next(iter(train_preproc))[0].type() == 'torch.FloatTensor'\n",
    "assert next(iter(train_preproc))[1].type() == 'torch.LongTensor' "
   ]
  },
  {
   "cell_type": "markdown",
   "id": "bb1e082b",
   "metadata": {},
   "source": [
    "we now build new DataLoaders:"
   ]
  },
  {
   "cell_type": "code",
   "execution_count": null,
   "id": "3c671be1",
   "metadata": {},
   "outputs": [],
   "source": [
    "new_train_loader = DataLoader(train_preproc, 16, True)\n",
    "new_val_loader = DataLoader(val_preproc, 16)"
   ]
  },
  {
   "cell_type": "markdown",
   "id": "3b1f4863",
   "metadata": {},
   "source": [
    "# Top layer"
   ]
  },
  {
   "cell_type": "markdown",
   "id": "8076105a",
   "metadata": {},
   "source": [
    "With features extracted we can now create a brand new simple model using a fully-connected layer [per table](#transfer_learning_layer_replacement) suggestions `nn.Linear(4096, num_classes)`:"
   ]
  },
  {
   "cell_type": "markdown",
   "id": "76faf7be",
   "metadata": {},
   "source": [
    "Let's create a new model:"
   ]
  },
  {
   "cell_type": "code",
   "execution_count": null,
   "id": "177ce6a3",
   "metadata": {},
   "outputs": [],
   "source": [
    "torch.manual_seed(17)\n",
    "top_layer = nn.Linear(4096, 3)\n",
    "multi_loss_fn = nn.CrossEntropyLoss(reduction='mean')\n",
    "optimizer_top = optim.Adam(top_layer.parameters(), lr=3e-4)\n",
    "sbs_top = StepByStep(top_layer, optimizer_top, multi_loss_fn)\n",
    "sbs_top.set_loaders(new_train_loader, new_val_loader)"
   ]
  },
  {
   "cell_type": "code",
   "execution_count": null,
   "id": "be439bac",
   "metadata": {},
   "outputs": [
    {
     "name": "stderr",
     "output_type": "stream",
     "text": [
      "100%|█████████████████████████████████████████████████████████████████████████████████████████████████████████████████████████████████████████████████████████████████████████████████████████████████| 10/10 [00:01<00:00,  8.21it/s]\n"
     ]
    }
   ],
   "source": [
    "sbs_top.train(10)"
   ]
  },
  {
   "cell_type": "code",
   "execution_count": null,
   "id": "7cc1aa56",
   "metadata": {},
   "outputs": [
    {
     "data": {
      "image/png": "[encoded data removed]",
      "text/plain": [
       "<Figure size 1000x400 with 1 Axes>"
      ]
     },
     "metadata": {},
     "output_type": "display_data"
    }
   ],
   "source": [
    "_ = sbs_top.plot_losses()"
   ]
  },
  {
   "cell_type": "code",
   "execution_count": null,
   "id": "a592eae1",
   "metadata": {},
   "outputs": [
    {
     "data": {
      "text/plain": [
       "95.97"
      ]
     },
     "execution_count": null,
     "metadata": {},
     "output_type": "execute_result"
    }
   ],
   "source": [
    "sbs_top.accuracy"
   ]
  },
  {
   "cell_type": "code",
   "execution_count": null,
   "id": "b80f575a",
   "metadata": {},
   "outputs": [
    {
     "data": {
      "text/plain": [
       "tensor([[109, 124],\n",
       "        [124, 124],\n",
       "        [124, 124]])"
      ]
     },
     "execution_count": null,
     "metadata": {},
     "output_type": "execute_result"
    }
   ],
   "source": [
    "sbs_top.accuracy_per_class"
   ]
  },
  {
   "cell_type": "markdown",
   "id": "e9bcd457",
   "metadata": {},
   "source": [
    "And this is pretty good, and very fast too!"
   ]
  },
  {
   "cell_type": "markdown",
   "id": "a916bd03",
   "metadata": {},
   "source": [
    "For any new images that need to be evaluated thought, we will have to go through the whole model, so let's insert this new `top_layer` into a `sbs`. **Important: be very careful when changing the model layers AFTER creating StepByStep object. Model change that changes parameters must be reflected in optimizer as well (I added some check for this via `sbs.check_consistency` that checks number of parameters).** "
   ]
  },
  {
   "cell_type": "code",
   "execution_count": null,
   "id": "85bbcb0a",
   "metadata": {},
   "outputs": [
    {
     "data": {
      "text/plain": [
       "Sequential(\n",
       "  (0): Dropout(p=0.5, inplace=False)\n",
       "  (1): Linear(in_features=9216, out_features=4096, bias=True)\n",
       "  (2): ReLU(inplace=True)\n",
       "  (3): Dropout(p=0.5, inplace=False)\n",
       "  (4): Linear(in_features=4096, out_features=4096, bias=True)\n",
       "  (5): ReLU(inplace=True)\n",
       "  (6): Linear(in_features=4096, out_features=3, bias=True)\n",
       ")"
      ]
     },
     "execution_count": null,
     "metadata": {},
     "output_type": "execute_result"
    }
   ],
   "source": [
    "sbs.model.classifier[6] = top_layer\n",
    "sbs.check_consistency()\n",
    "sbs.model.classifier"
   ]
  },
  {
   "cell_type": "markdown",
   "id": "85248204",
   "metadata": {},
   "source": [
    "Let's evaluate on the old `val_loader` to see if we get the same result:"
   ]
  },
  {
   "cell_type": "code",
   "execution_count": null,
   "id": "dabed9d1",
   "metadata": {},
   "outputs": [
    {
     "data": {
      "text/plain": [
       "tensor([[109, 124],\n",
       "        [124, 124],\n",
       "        [124, 124]])"
      ]
     },
     "execution_count": null,
     "metadata": {},
     "output_type": "execute_result"
    }
   ],
   "source": [
    "sbs.accuracy_per_class"
   ]
  },
  {
   "cell_type": "code",
   "execution_count": null,
   "id": "23857c1b",
   "metadata": {},
   "outputs": [
    {
     "data": {
      "text/plain": [
       "95.97"
      ]
     },
     "execution_count": null,
     "metadata": {},
     "output_type": "execute_result"
    }
   ],
   "source": [
    "sbs.accuracy"
   ]
  },
  {
   "cell_type": "markdown",
   "id": "bc996e93",
   "metadata": {},
   "source": [
    "yup, exactly the same."
   ]
  },
  {
   "cell_type": "markdown",
   "id": "e54e6233",
   "metadata": {},
   "source": [
    "# Inception Model"
   ]
  },
  {
   "cell_type": "markdown",
   "id": "dbc2304b",
   "metadata": {},
   "source": [
    "Let's try Inception model. Inception has these [2 layers](#session_rate) so we can not run the feature extraction, we have to use the full model. First we prep the data:"
   ]
  },
  {
   "cell_type": "code",
   "execution_count": null,
   "id": "d0ccf8d9",
   "metadata": {},
   "outputs": [],
   "source": [
    "weights = Inception_V3_Weights.IMAGENET1K_V1\n",
    "transform = weights.transforms()\n",
    "train_dataset = ImageFolder(root='rps', transform=transform)\n",
    "val_dataset = ImageFolder(root='rps-test-set', transform=transform)\n",
    "train_loader = DataLoader(train_dataset, 16, True)\n",
    "val_loader = DataLoader(val_dataset, 16)"
   ]
  },
  {
   "cell_type": "code",
   "execution_count": null,
   "id": "fb80325e",
   "metadata": {},
   "outputs": [
    {
     "data": {
      "text/plain": [
       "ImageClassification(\n",
       "    crop_size=[299]\n",
       "    resize_size=[342]\n",
       "    mean=[0.485, 0.456, 0.406]\n",
       "    std=[0.229, 0.224, 0.225]\n",
       "    interpolation=InterpolationMode.BILINEAR\n",
       ")"
      ]
     },
     "execution_count": null,
     "metadata": {},
     "output_type": "execute_result"
    }
   ],
   "source": [
    "transform"
   ]
  },
  {
   "cell_type": "markdown",
   "id": "04471097",
   "metadata": {},
   "source": [
    "next we set the model and freeze it:"
   ]
  },
  {
   "cell_type": "code",
   "execution_count": null,
   "id": "93e342fe",
   "metadata": {},
   "outputs": [
    {
     "name": "stdout",
     "output_type": "stream",
     "text": [
      "No trainable parameters.\n"
     ]
    }
   ],
   "source": [
    "inception = inception_v3(weights=weights)\n",
    "freeze_model(inception)\n",
    "print_trainable_parameters(inception)"
   ]
  },
  {
   "cell_type": "markdown",
   "id": "f5c2b3b3",
   "metadata": {},
   "source": [
    "replace the top layers per advice:"
   ]
  },
  {
   "cell_type": "code",
   "execution_count": null,
   "id": "974bdbe5",
   "metadata": {},
   "outputs": [
    {
     "name": "stdout",
     "output_type": "stream",
     "text": [
      "AuxLogits.fc.weight\n",
      "AuxLogits.fc.bias\n",
      "fc.weight\n",
      "fc.bias\n"
     ]
    }
   ],
   "source": [
    "inception.fc = nn.Linear(2048, 3)\n",
    "inception.AuxLogits.fc = nn.Linear(768, 3)\n",
    "print_trainable_parameters(inception)"
   ]
  },
  {
   "cell_type": "markdown",
   "id": "8b400980",
   "metadata": {},
   "source": [
    "We need to create special loss function that handles 2 output losses (one main and one auxilary) and combines them (with weight of 0.4 for auxilary):"
   ]
  },
  {
   "cell_type": "code",
   "execution_count": null,
   "id": "e4fddbad",
   "metadata": {},
   "outputs": [],
   "source": [
    "def inception_loss(outputs, labels):\n",
    "    try:\n",
    "        main, aux = outputs  # this is a KEY difference from other models with single output\n",
    "    except ValueError:\n",
    "        main, aux = outputs, None  # this is a typical loss with no auxilairy layers\n",
    "        \n",
    "    main_loss = nn.CrossEntropyLoss()(main, labels)\n",
    "    aux_loss = nn.CrossEntropyLoss()(aux, labels) if aux is not None else 0\n",
    "    return main_loss + 0.4 * aux_loss"
   ]
  },
  {
   "cell_type": "markdown",
   "id": "6fd6fcb8",
   "metadata": {},
   "source": [
    "We are now ready to create `sbs` object:"
   ]
  },
  {
   "cell_type": "code",
   "execution_count": null,
   "id": "cb37140e",
   "metadata": {},
   "outputs": [],
   "source": [
    "torch.manual_seed(17)\n",
    "optimizer = optim.Adam(inception.parameters(), lr=3e-4)\n",
    "sbs_inception = StepByStep(inception, optimizer, inception_loss)\n",
    "sbs_inception.set_loaders(train_loader, val_loader)"
   ]
  },
  {
   "cell_type": "markdown",
   "id": "17903fcc",
   "metadata": {},
   "source": [
    "It is training time:"
   ]
  },
  {
   "cell_type": "code",
   "execution_count": null,
   "id": "8ed39dc9",
   "metadata": {},
   "outputs": [
    {
     "name": "stderr",
     "output_type": "stream",
     "text": [
      "100%|██████████████████████████████████████████████████████████████████████████████████████████████████████████████████████████████████████████████████████████████████████████████████████████████████| 1/1 [08:06<00:00, 486.61s/it]\n"
     ]
    }
   ],
   "source": [
    "sbs_inception.train(5)"
   ]
  },
  {
   "cell_type": "code",
   "execution_count": null,
   "id": "421d53b2",
   "metadata": {},
   "outputs": [
    {
     "data": {
      "text/plain": [
       "tensor([[ 93, 124],\n",
       "        [ 55, 124],\n",
       "        [  0, 124]])"
      ]
     },
     "execution_count": null,
     "metadata": {},
     "output_type": "execute_result"
    }
   ],
   "source": [
    "print(sbs_inception.accuracy_per_class)\n",
    "print(sbs_inception.accuracy)\n",
    "sbs_inception.plot_losses()"
   ]
  },
  {
   "cell_type": "markdown",
   "id": "adacd94a",
   "metadata": {},
   "source": [
    "# Batch normalization"
   ]
  },
  {
   "cell_type": "markdown",
   "id": "ada30603",
   "metadata": {},
   "source": [
    "TODO"
   ]
  },
  {
   "cell_type": "code",
   "execution_count": null,
   "id": "341a1f4f",
   "metadata": {},
   "outputs": [],
   "source": []
  }
 ],
 "metadata": {
  "kernelspec": {
   "display_name": "pytorched",
   "language": "python",
   "name": "pytorched"
  },
  "widgets": {
   "application/vnd.jupyter.widget-state+json": {
    "1c4e058e47304c24a793f2e4d5a2fa07": {
     "model_module": "@jupyter-widgets/base",
     "model_module_version": "1.2.0",
     "model_name": "LayoutModel",
     "state": {
      "_model_module": "@jupyter-widgets/base",
      "_model_module_version": "1.2.0",
      "_model_name": "LayoutModel",
      "_view_count": null,
      "_view_module": "@jupyter-widgets/base",
      "_view_module_version": "1.2.0",
      "_view_name": "LayoutView",
      "align_content": null,
      "align_items": null,
      "align_self": null,
      "border": null,
      "bottom": null,
      "display": null,
      "flex": null,
      "flex_flow": null,
      "grid_area": null,
      "grid_auto_columns": null,
      "grid_auto_flow": null,
      "grid_auto_rows": null,
      "grid_column": null,
      "grid_gap": null,
      "grid_row": null,
      "grid_template_areas": null,
      "grid_template_columns": null,
      "grid_template_rows": null,
      "height": null,
      "justify_content": null,
      "justify_items": null,
      "left": null,
      "margin": null,
      "max_height": null,
      "max_width": null,
      "min_height": null,
      "min_width": null,
      "object_fit": null,
      "object_position": null,
      "order": null,
      "overflow": null,
      "overflow_x": null,
      "overflow_y": null,
      "padding": null,
      "right": null,
      "top": null,
      "visibility": null,
      "width": null
     }
    },
    "3d077415c7744f86b7e4c19003e149d4": {
     "model_module": "@jupyter-widgets/controls",
     "model_module_version": "1.5.0",
     "model_name": "DescriptionStyleModel",
     "state": {
      "_model_module": "@jupyter-widgets/controls",
      "_model_module_version": "1.5.0",
      "_model_name": "DescriptionStyleModel",
      "_view_count": null,
      "_view_module": "@jupyter-widgets/base",
      "_view_module_version": "1.2.0",
      "_view_name": "StyleView",
      "description_width": ""
     }
    },
    "54ba71a869114014a80146246fafdecc": {
     "model_module": "@jupyter-widgets/base",
     "model_module_version": "1.2.0",
     "model_name": "LayoutModel",
     "state": {
      "_model_module": "@jupyter-widgets/base",
      "_model_module_version": "1.2.0",
      "_model_name": "LayoutModel",
      "_view_count": null,
      "_view_module": "@jupyter-widgets/base",
      "_view_module_version": "1.2.0",
      "_view_name": "LayoutView",
      "align_content": null,
      "align_items": null,
      "align_self": null,
      "border": null,
      "bottom": null,
      "display": null,
      "flex": null,
      "flex_flow": null,
      "grid_area": null,
      "grid_auto_columns": null,
      "grid_auto_flow": null,
      "grid_auto_rows": null,
      "grid_column": null,
      "grid_gap": null,
      "grid_row": null,
      "grid_template_areas": null,
      "grid_template_columns": null,
      "grid_template_rows": null,
      "height": null,
      "justify_content": null,
      "justify_items": null,
      "left": null,
      "margin": null,
      "max_height": null,
      "max_width": null,
      "min_height": null,
      "min_width": null,
      "object_fit": null,
      "object_position": null,
      "order": null,
      "overflow": null,
      "overflow_x": null,
      "overflow_y": null,
      "padding": null,
      "right": null,
      "top": null,
      "visibility": null,
      "width": null
     }
    },
    "627919f6e1d949909506c4c5306d85fd": {
     "model_module": "@jupyter-widgets/base",
     "model_module_version": "1.2.0",
     "model_name": "LayoutModel",
     "state": {
      "_model_module": "@jupyter-widgets/base",
      "_model_module_version": "1.2.0",
      "_model_name": "LayoutModel",
      "_view_count": null,
      "_view_module": "@jupyter-widgets/base",
      "_view_module_version": "1.2.0",
      "_view_name": "LayoutView",
      "align_content": null,
      "align_items": null,
      "align_self": null,
      "border": null,
      "bottom": null,
      "display": null,
      "flex": null,
      "flex_flow": null,
      "grid_area": null,
      "grid_auto_columns": null,
      "grid_auto_flow": null,
      "grid_auto_rows": null,
      "grid_column": null,
      "grid_gap": null,
      "grid_row": null,
      "grid_template_areas": null,
      "grid_template_columns": null,
      "grid_template_rows": null,
      "height": null,
      "justify_content": null,
      "justify_items": null,
      "left": null,
      "margin": null,
      "max_height": null,
      "max_width": null,
      "min_height": null,
      "min_width": null,
      "object_fit": null,
      "object_position": null,
      "order": null,
      "overflow": null,
      "overflow_x": null,
      "overflow_y": null,
      "padding": null,
      "right": null,
      "top": null,
      "visibility": null,
      "width": null
     }
    },
    "69c4cff83006479384c0c193ad732fc4": {
     "model_module": "@jupyter-widgets/controls",
     "model_module_version": "1.5.0",
     "model_name": "ProgressStyleModel",
     "state": {
      "_model_module": "@jupyter-widgets/controls",
      "_model_module_version": "1.5.0",
      "_model_name": "ProgressStyleModel",
      "_view_count": null,
      "_view_module": "@jupyter-widgets/base",
      "_view_module_version": "1.2.0",
      "_view_name": "StyleView",
      "bar_color": null,
      "description_width": ""
     }
    },
    "7a2845eef53b4d48aeba5df0a2bb134b": {
     "model_module": "@jupyter-widgets/controls",
     "model_module_version": "1.5.0",
     "model_name": "FloatProgressModel",
     "state": {
      "_dom_classes": [],
      "_model_module": "@jupyter-widgets/controls",
      "_model_module_version": "1.5.0",
      "_model_name": "FloatProgressModel",
      "_view_count": null,
      "_view_module": "@jupyter-widgets/controls",
      "_view_module_version": "1.5.0",
      "_view_name": "ProgressView",
      "bar_style": "success",
      "description": "",
      "description_tooltip": null,
      "layout": "IPY_MODEL_1c4e058e47304c24a793f2e4d5a2fa07",
      "max": 244408911,
      "min": 0,
      "orientation": "horizontal",
      "style": "IPY_MODEL_69c4cff83006479384c0c193ad732fc4",
      "value": 244408911
     }
    },
    "b55542ce1fea4f0c9b1b9ddaf3cee571": {
     "model_module": "@jupyter-widgets/controls",
     "model_module_version": "1.5.0",
     "model_name": "HBoxModel",
     "state": {
      "_dom_classes": [],
      "_model_module": "@jupyter-widgets/controls",
      "_model_module_version": "1.5.0",
      "_model_name": "HBoxModel",
      "_view_count": null,
      "_view_module": "@jupyter-widgets/controls",
      "_view_module_version": "1.5.0",
      "_view_name": "HBoxView",
      "box_style": "",
      "children": [
       "IPY_MODEL_e83a200d642e4f62a1c9dda0783d9507",
       "IPY_MODEL_7a2845eef53b4d48aeba5df0a2bb134b",
       "IPY_MODEL_d4008eb00c754ff79543400642e089d7"
      ],
      "layout": "IPY_MODEL_ce7cc5fb68f343d487b9f7206b22d590"
     }
    },
    "c8c99ea958434936aa7e18eb5e5b5c02": {
     "model_module": "@jupyter-widgets/controls",
     "model_module_version": "1.5.0",
     "model_name": "DescriptionStyleModel",
     "state": {
      "_model_module": "@jupyter-widgets/controls",
      "_model_module_version": "1.5.0",
      "_model_name": "DescriptionStyleModel",
      "_view_count": null,
      "_view_module": "@jupyter-widgets/base",
      "_view_module_version": "1.2.0",
      "_view_name": "StyleView",
      "description_width": ""
     }
    },
    "ce7cc5fb68f343d487b9f7206b22d590": {
     "model_module": "@jupyter-widgets/base",
     "model_module_version": "1.2.0",
     "model_name": "LayoutModel",
     "state": {
      "_model_module": "@jupyter-widgets/base",
      "_model_module_version": "1.2.0",
      "_model_name": "LayoutModel",
      "_view_count": null,
      "_view_module": "@jupyter-widgets/base",
      "_view_module_version": "1.2.0",
      "_view_name": "LayoutView",
      "align_content": null,
      "align_items": null,
      "align_self": null,
      "border": null,
      "bottom": null,
      "display": null,
      "flex": null,
      "flex_flow": null,
      "grid_area": null,
      "grid_auto_columns": null,
      "grid_auto_flow": null,
      "grid_auto_rows": null,
      "grid_column": null,
      "grid_gap": null,
      "grid_row": null,
      "grid_template_areas": null,
      "grid_template_columns": null,
      "grid_template_rows": null,
      "height": null,
      "justify_content": null,
      "justify_items": null,
      "left": null,
      "margin": null,
      "max_height": null,
      "max_width": null,
      "min_height": null,
      "min_width": null,
      "object_fit": null,
      "object_position": null,
      "order": null,
      "overflow": null,
      "overflow_x": null,
      "overflow_y": null,
      "padding": null,
      "right": null,
      "top": null,
      "visibility": null,
      "width": null
     }
    },
    "d4008eb00c754ff79543400642e089d7": {
     "model_module": "@jupyter-widgets/controls",
     "model_module_version": "1.5.0",
     "model_name": "HTMLModel",
     "state": {
      "_dom_classes": [],
      "_model_module": "@jupyter-widgets/controls",
      "_model_module_version": "1.5.0",
      "_model_name": "HTMLModel",
      "_view_count": null,
      "_view_module": "@jupyter-widgets/controls",
      "_view_module_version": "1.5.0",
      "_view_name": "HTMLView",
      "description": "",
      "description_tooltip": null,
      "layout": "IPY_MODEL_627919f6e1d949909506c4c5306d85fd",
      "placeholder": "​",
      "style": "IPY_MODEL_3d077415c7744f86b7e4c19003e149d4",
      "value": " 233M/233M [00:01&lt;00:00, 168MB/s]"
     }
    },
    "e83a200d642e4f62a1c9dda0783d9507": {
     "model_module": "@jupyter-widgets/controls",
     "model_module_version": "1.5.0",
     "model_name": "HTMLModel",
     "state": {
      "_dom_classes": [],
      "_model_module": "@jupyter-widgets/controls",
      "_model_module_version": "1.5.0",
      "_model_name": "HTMLModel",
      "_view_count": null,
      "_view_module": "@jupyter-widgets/controls",
      "_view_module_version": "1.5.0",
      "_view_name": "HTMLView",
      "description": "",
      "description_tooltip": null,
      "layout": "IPY_MODEL_54ba71a869114014a80146246fafdecc",
      "placeholder": "​",
      "style": "IPY_MODEL_c8c99ea958434936aa7e18eb5e5b5c02",
      "value": "100%"
     }
    }
   }
  }
 },
 "nbformat": 4,
 "nbformat_minor": 5
}

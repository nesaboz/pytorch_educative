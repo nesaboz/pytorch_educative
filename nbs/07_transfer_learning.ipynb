{
  "cells": [
    {
      "cell_type": "markdown",
      "id": "384dc9d1",
      "metadata": {
        "id": "384dc9d1"
      },
      "source": [
        "# Transfer learning"
      ]
    },
    {
      "cell_type": "markdown",
      "id": "7b6b2e2b",
      "metadata": {
        "id": "7b6b2e2b"
      },
      "source": [
        "Set the environment blah blah:"
      ]
    },
    {
      "cell_type": "code",
      "execution_count": 1,
      "id": "8a61e2c6",
      "metadata": {
        "colab": {
          "base_uri": "https://localhost:8080/"
        },
        "id": "8a61e2c6",
        "outputId": "39f5962e-bd65-4ba6-923b-9aabb4b75412"
      },
      "outputs": [
        {
          "output_type": "stream",
          "name": "stdout",
          "text": [
            "Looking in indexes: https://pypi.org/simple, https://us-python.pkg.dev/colab-wheels/public/simple/\n",
            "Requirement already satisfied: numpy in /usr/local/lib/python3.8/dist-packages (1.21.6)\n",
            "Requirement already satisfied: pandas in /usr/local/lib/python3.8/dist-packages (1.3.5)\n",
            "Requirement already satisfied: matplotlib in /usr/local/lib/python3.8/dist-packages (3.2.2)\n",
            "Collecting torchviz\n",
            "  Downloading torchviz-0.0.2.tar.gz (4.9 kB)\n",
            "Requirement already satisfied: scikit-learn in /usr/local/lib/python3.8/dist-packages (1.0.2)\n",
            "Requirement already satisfied: tensorboard in /usr/local/lib/python3.8/dist-packages (2.9.1)\n",
            "Requirement already satisfied: torchvision in /usr/local/lib/python3.8/dist-packages (0.14.0+cu116)\n",
            "Requirement already satisfied: torch in /usr/local/lib/python3.8/dist-packages (1.13.0+cu116)\n",
            "Requirement already satisfied: tqdm in /usr/local/lib/python3.8/dist-packages (4.64.1)\n",
            "Collecting torch-lr-finder\n",
            "  Downloading torch_lr_finder-0.2.1-py3-none-any.whl (11 kB)\n",
            "Requirement already satisfied: python-dateutil>=2.7.3 in /usr/local/lib/python3.8/dist-packages (from pandas) (2.8.2)\n",
            "Requirement already satisfied: pytz>=2017.3 in /usr/local/lib/python3.8/dist-packages (from pandas) (2022.6)\n",
            "Requirement already satisfied: six>=1.5 in /usr/local/lib/python3.8/dist-packages (from python-dateutil>=2.7.3->pandas) (1.15.0)\n",
            "Requirement already satisfied: kiwisolver>=1.0.1 in /usr/local/lib/python3.8/dist-packages (from matplotlib) (1.4.4)\n",
            "Requirement already satisfied: pyparsing!=2.0.4,!=2.1.2,!=2.1.6,>=2.0.1 in /usr/local/lib/python3.8/dist-packages (from matplotlib) (3.0.9)\n",
            "Requirement already satisfied: cycler>=0.10 in /usr/local/lib/python3.8/dist-packages (from matplotlib) (0.11.0)\n",
            "Requirement already satisfied: graphviz in /usr/local/lib/python3.8/dist-packages (from torchviz) (0.10.1)\n",
            "Requirement already satisfied: scipy>=1.1.0 in /usr/local/lib/python3.8/dist-packages (from scikit-learn) (1.7.3)\n",
            "Requirement already satisfied: threadpoolctl>=2.0.0 in /usr/local/lib/python3.8/dist-packages (from scikit-learn) (3.1.0)\n",
            "Requirement already satisfied: joblib>=0.11 in /usr/local/lib/python3.8/dist-packages (from scikit-learn) (1.2.0)\n",
            "Requirement already satisfied: wheel>=0.26 in /usr/local/lib/python3.8/dist-packages (from tensorboard) (0.38.4)\n",
            "Requirement already satisfied: werkzeug>=1.0.1 in /usr/local/lib/python3.8/dist-packages (from tensorboard) (1.0.1)\n",
            "Requirement already satisfied: setuptools>=41.0.0 in /usr/local/lib/python3.8/dist-packages (from tensorboard) (57.4.0)\n",
            "Requirement already satisfied: absl-py>=0.4 in /usr/local/lib/python3.8/dist-packages (from tensorboard) (1.3.0)\n",
            "Requirement already satisfied: google-auth-oauthlib<0.5,>=0.4.1 in /usr/local/lib/python3.8/dist-packages (from tensorboard) (0.4.6)\n",
            "Requirement already satisfied: requests<3,>=2.21.0 in /usr/local/lib/python3.8/dist-packages (from tensorboard) (2.23.0)\n",
            "Requirement already satisfied: protobuf<3.20,>=3.9.2 in /usr/local/lib/python3.8/dist-packages (from tensorboard) (3.19.6)\n",
            "Requirement already satisfied: tensorboard-data-server<0.7.0,>=0.6.0 in /usr/local/lib/python3.8/dist-packages (from tensorboard) (0.6.1)\n",
            "Requirement already satisfied: google-auth<3,>=1.6.3 in /usr/local/lib/python3.8/dist-packages (from tensorboard) (2.15.0)\n",
            "Requirement already satisfied: tensorboard-plugin-wit>=1.6.0 in /usr/local/lib/python3.8/dist-packages (from tensorboard) (1.8.1)\n",
            "Requirement already satisfied: markdown>=2.6.8 in /usr/local/lib/python3.8/dist-packages (from tensorboard) (3.4.1)\n",
            "Requirement already satisfied: grpcio>=1.24.3 in /usr/local/lib/python3.8/dist-packages (from tensorboard) (1.51.1)\n",
            "Requirement already satisfied: pyasn1-modules>=0.2.1 in /usr/local/lib/python3.8/dist-packages (from google-auth<3,>=1.6.3->tensorboard) (0.2.8)\n",
            "Requirement already satisfied: cachetools<6.0,>=2.0.0 in /usr/local/lib/python3.8/dist-packages (from google-auth<3,>=1.6.3->tensorboard) (5.2.0)\n",
            "Requirement already satisfied: rsa<5,>=3.1.4 in /usr/local/lib/python3.8/dist-packages (from google-auth<3,>=1.6.3->tensorboard) (4.9)\n",
            "Requirement already satisfied: requests-oauthlib>=0.7.0 in /usr/local/lib/python3.8/dist-packages (from google-auth-oauthlib<0.5,>=0.4.1->tensorboard) (1.3.1)\n",
            "Requirement already satisfied: importlib-metadata>=4.4 in /usr/local/lib/python3.8/dist-packages (from markdown>=2.6.8->tensorboard) (4.13.0)\n",
            "Requirement already satisfied: zipp>=0.5 in /usr/local/lib/python3.8/dist-packages (from importlib-metadata>=4.4->markdown>=2.6.8->tensorboard) (3.11.0)\n",
            "Requirement already satisfied: pyasn1<0.5.0,>=0.4.6 in /usr/local/lib/python3.8/dist-packages (from pyasn1-modules>=0.2.1->google-auth<3,>=1.6.3->tensorboard) (0.4.8)\n",
            "Requirement already satisfied: idna<3,>=2.5 in /usr/local/lib/python3.8/dist-packages (from requests<3,>=2.21.0->tensorboard) (2.10)\n",
            "Requirement already satisfied: urllib3!=1.25.0,!=1.25.1,<1.26,>=1.21.1 in /usr/local/lib/python3.8/dist-packages (from requests<3,>=2.21.0->tensorboard) (1.24.3)\n",
            "Requirement already satisfied: certifi>=2017.4.17 in /usr/local/lib/python3.8/dist-packages (from requests<3,>=2.21.0->tensorboard) (2022.9.24)\n",
            "Requirement already satisfied: chardet<4,>=3.0.2 in /usr/local/lib/python3.8/dist-packages (from requests<3,>=2.21.0->tensorboard) (3.0.4)\n",
            "Requirement already satisfied: oauthlib>=3.0.0 in /usr/local/lib/python3.8/dist-packages (from requests-oauthlib>=0.7.0->google-auth-oauthlib<0.5,>=0.4.1->tensorboard) (3.2.2)\n",
            "Requirement already satisfied: pillow!=8.3.*,>=5.3.0 in /usr/local/lib/python3.8/dist-packages (from torchvision) (7.1.2)\n",
            "Requirement already satisfied: typing-extensions in /usr/local/lib/python3.8/dist-packages (from torchvision) (4.4.0)\n",
            "Requirement already satisfied: packaging in /usr/local/lib/python3.8/dist-packages (from torch-lr-finder) (21.3)\n",
            "Building wheels for collected packages: torchviz\n",
            "  Building wheel for torchviz (setup.py) ... \u001b[?25l\u001b[?25hdone\n",
            "  Created wheel for torchviz: filename=torchviz-0.0.2-py3-none-any.whl size=4151 sha256=14150ed275b71cc321e0addaa2f7103b464ab9c581c642151b97b660dc737a5a\n",
            "  Stored in directory: /root/.cache/pip/wheels/05/7d/1b/8306781244e42ede119edbb053bdcda1c1f424ca226165a417\n",
            "Successfully built torchviz\n",
            "Installing collected packages: torchviz, torch-lr-finder\n",
            "Successfully installed torch-lr-finder-0.2.1 torchviz-0.0.2\n"
          ]
        }
      ],
      "source": [
        "#|code-fold: true\n",
        "#|output: false\n",
        "!pip install numpy pandas matplotlib torchviz scikit-learn tensorboard torchvision torch tqdm torch-lr-finder"
      ]
    },
    {
      "cell_type": "markdown",
      "id": "9b4250b8",
      "metadata": {
        "id": "9b4250b8"
      },
      "source": [
        "If this is GoogleColab we download config and use it to download necesseary folders and files for this project (defined in `config.py`). Here we'll need:\n",
        "- `pytorched.step_by_step.py`\n",
        "- `data_preparation.rps.py`"
      ]
    },
    {
      "cell_type": "code",
      "execution_count": 2,
      "id": "1fc9fda2",
      "metadata": {
        "colab": {
          "base_uri": "https://localhost:8080/"
        },
        "id": "1fc9fda2",
        "outputId": "21bdf787-25db-4a72-caf1-beeaae7d87d5"
      },
      "outputs": [
        {
          "output_type": "stream",
          "name": "stdout",
          "text": [
            "Downloading files from GitHub repo to Colab...\n",
            "Finished!\n"
          ]
        }
      ],
      "source": [
        "#|code-fold: true\n",
        "#|output: false\n",
        "try:\n",
        "    import google.colab\n",
        "    import requests\n",
        "    url = 'https://raw.githubusercontent.com/nesaboz/pytorched/main/config.py'\n",
        "    r = requests.get(url, allow_redirects=True)\n",
        "    open('config.py', 'wb').write(r.content)    \n",
        "except ModuleNotFoundError:\n",
        "    print('Not GoogleColab.')\n",
        "    pass\n",
        "\n",
        "from config import config_project\n",
        "config_project('transfer_learning')"
      ]
    },
    {
      "cell_type": "markdown",
      "id": "a60a2c96",
      "metadata": {
        "id": "a60a2c96"
      },
      "source": [
        "We are now ready for imports:"
      ]
    },
    {
      "cell_type": "code",
      "execution_count": 3,
      "id": "d52254a5",
      "metadata": {
        "id": "d52254a5"
      },
      "outputs": [],
      "source": [
        "#|code-fold: true\n",
        "#|output: false\n",
        "import numpy as np\n",
        "from PIL import Image\n",
        "\n",
        "import torch\n",
        "import torch.optim as optim\n",
        "import torch.nn as nn\n",
        "import torch.nn.functional as F\n",
        "\n",
        "import matplotlib.pyplot as plt\n",
        "\n",
        "from torch.utils.data import DataLoader, Dataset, random_split, TensorDataset\n",
        "from torchvision.transforms import Compose, ToTensor, Normalize, Resize, ToPILImage, CenterCrop, RandomResizedCrop, InterpolationMode\n",
        "from torchvision.datasets import ImageFolder\n",
        "from torchvision.models import alexnet, resnet18, inception_v3\n",
        "from torchvision.models.alexnet import model_urls\n",
        "from torchvision.models import Inception_V3_Weights, AlexNet_Weights\n",
        "from torch.hub import load_state_dict_from_url\n",
        "from torchviz import make_dot\n",
        "\n",
        "from data_generation.rps import download_rps\n",
        "from pytorched.step_by_step import StepByStep\n",
        "\n",
        "plt.style.use('fivethirtyeight')\n",
        "\n",
        "%load_ext autoreload\n",
        "%autoreload 2"
      ]
    },
    {
      "cell_type": "markdown",
      "id": "cfa21f12",
      "metadata": {
        "id": "cfa21f12"
      },
      "source": [
        "# AlexNet"
      ]
    },
    {
      "cell_type": "markdown",
      "id": "aa26147d",
      "metadata": {
        "id": "aa26147d"
      },
      "source": [
        "Let's try to use AlexNet model first to help us in the Rock-Paper-Scissors problem. We'll need to load AlexNet, with it's weights, then make a feature-extractor on our data loaders, modify the last layer, and train. Let's get to it: "
      ]
    },
    {
      "cell_type": "markdown",
      "id": "d6b48653",
      "metadata": {
        "id": "d6b48653"
      },
      "source": [
        "We can get AlexNet from torchvision.models:"
      ]
    },
    {
      "cell_type": "code",
      "execution_count": 4,
      "id": "6c6cfb15",
      "metadata": {
        "colab": {
          "base_uri": "https://localhost:8080/",
          "height": 676,
          "referenced_widgets": [
            "b55542ce1fea4f0c9b1b9ddaf3cee571",
            "e83a200d642e4f62a1c9dda0783d9507",
            "7a2845eef53b4d48aeba5df0a2bb134b",
            "d4008eb00c754ff79543400642e089d7",
            "ce7cc5fb68f343d487b9f7206b22d590",
            "54ba71a869114014a80146246fafdecc",
            "c8c99ea958434936aa7e18eb5e5b5c02",
            "1c4e058e47304c24a793f2e4d5a2fa07",
            "69c4cff83006479384c0c193ad732fc4",
            "627919f6e1d949909506c4c5306d85fd",
            "3d077415c7744f86b7e4c19003e149d4"
          ]
        },
        "id": "6c6cfb15",
        "outputId": "a6c06009-d1f1-4d51-f534-bde68ca2bd98"
      },
      "outputs": [
        {
          "output_type": "stream",
          "name": "stderr",
          "text": [
            "Downloading: \"https://download.pytorch.org/models/alexnet-owt-7be5be79.pth\" to /root/.cache/torch/hub/checkpoints/alexnet-owt-7be5be79.pth\n"
          ]
        },
        {
          "output_type": "display_data",
          "data": {
            "text/plain": [
              "  0%|          | 0.00/233M [00:00<?, ?B/s]"
            ],
            "application/vnd.jupyter.widget-view+json": {
              "version_major": 2,
              "version_minor": 0,
              "model_id": "b55542ce1fea4f0c9b1b9ddaf3cee571"
            }
          },
          "metadata": {}
        },
        {
          "output_type": "execute_result",
          "data": {
            "text/plain": [
              "AlexNet(\n",
              "  (features): Sequential(\n",
              "    (0): Conv2d(3, 64, kernel_size=(11, 11), stride=(4, 4), padding=(2, 2))\n",
              "    (1): ReLU(inplace=True)\n",
              "    (2): MaxPool2d(kernel_size=3, stride=2, padding=0, dilation=1, ceil_mode=False)\n",
              "    (3): Conv2d(64, 192, kernel_size=(5, 5), stride=(1, 1), padding=(2, 2))\n",
              "    (4): ReLU(inplace=True)\n",
              "    (5): MaxPool2d(kernel_size=3, stride=2, padding=0, dilation=1, ceil_mode=False)\n",
              "    (6): Conv2d(192, 384, kernel_size=(3, 3), stride=(1, 1), padding=(1, 1))\n",
              "    (7): ReLU(inplace=True)\n",
              "    (8): Conv2d(384, 256, kernel_size=(3, 3), stride=(1, 1), padding=(1, 1))\n",
              "    (9): ReLU(inplace=True)\n",
              "    (10): Conv2d(256, 256, kernel_size=(3, 3), stride=(1, 1), padding=(1, 1))\n",
              "    (11): ReLU(inplace=True)\n",
              "    (12): MaxPool2d(kernel_size=3, stride=2, padding=0, dilation=1, ceil_mode=False)\n",
              "  )\n",
              "  (avgpool): AdaptiveAvgPool2d(output_size=(6, 6))\n",
              "  (classifier): Sequential(\n",
              "    (0): Dropout(p=0.5, inplace=False)\n",
              "    (1): Linear(in_features=9216, out_features=4096, bias=True)\n",
              "    (2): ReLU(inplace=True)\n",
              "    (3): Dropout(p=0.5, inplace=False)\n",
              "    (4): Linear(in_features=4096, out_features=4096, bias=True)\n",
              "    (5): ReLU(inplace=True)\n",
              "    (6): Linear(in_features=4096, out_features=1000, bias=True)\n",
              "  )\n",
              ")"
            ]
          },
          "metadata": {},
          "execution_count": 4
        }
      ],
      "source": [
        "weights = AlexNet_Weights.IMAGENET1K_V1\n",
        "alex = alexnet(weights=weights)\n",
        "alex"
      ]
    },
    {
      "cell_type": "markdown",
      "id": "01c9a045",
      "metadata": {
        "id": "01c9a045"
      },
      "source": [
        "We need an original transform:"
      ]
    },
    {
      "cell_type": "code",
      "execution_count": 5,
      "id": "dbb58cc7",
      "metadata": {
        "id": "dbb58cc7"
      },
      "outputs": [],
      "source": [
        "transform = weights.transforms()"
      ]
    },
    {
      "cell_type": "markdown",
      "id": "6fb3f52f",
      "metadata": {
        "id": "6fb3f52f"
      },
      "source": [
        "Let's now create new data loaders based on this transform:\n"
      ]
    },
    {
      "cell_type": "code",
      "execution_count": 5,
      "id": "4365c8fa",
      "metadata": {
        "id": "4365c8fa"
      },
      "outputs": [],
      "source": [
        "#|code-fold: true \n",
        "#|output: false\n",
        "download_rps()"
      ]
    },
    {
      "cell_type": "code",
      "execution_count": 7,
      "id": "c6e2ac30",
      "metadata": {
        "id": "c6e2ac30"
      },
      "outputs": [],
      "source": [
        "train_dataset = ImageFolder(root='rps', transform=transform)\n",
        "val_dataset = ImageFolder(root='rps-test-set', transform=transform)"
      ]
    },
    {
      "cell_type": "code",
      "execution_count": 8,
      "id": "c3d6cf32",
      "metadata": {
        "id": "c3d6cf32"
      },
      "outputs": [],
      "source": [
        "train_loader = DataLoader(train_dataset, 16, shuffle=True)\n",
        "val_loader = DataLoader(val_dataset, 16)"
      ]
    },
    {
      "cell_type": "markdown",
      "id": "836e7a71",
      "metadata": {
        "id": "836e7a71"
      },
      "source": [
        "Let's also define an optimizer and loss:"
      ]
    },
    {
      "cell_type": "code",
      "execution_count": 9,
      "id": "f04ae589",
      "metadata": {
        "id": "f04ae589"
      },
      "outputs": [],
      "source": [
        "torch.manual_seed(17)\n",
        "optimizer = optim.Adam(alex.parameters(), 3e-4)\n",
        "loss_fn = nn.CrossEntropyLoss()\n",
        "sbs = StepByStep(alex, optimizer, loss_fn)\n",
        "sbs.set_loaders(train_loader, val_loader)"
      ]
    },
    {
      "cell_type": "markdown",
      "id": "c97e1981",
      "metadata": {
        "id": "c97e1981"
      },
      "source": [
        "# Feature-extractor\n"
      ]
    },
    {
      "cell_type": "markdown",
      "id": "5b52e675",
      "metadata": {
        "id": "5b52e675"
      },
      "source": [
        "These are current trainable parameters:"
      ]
    },
    {
      "cell_type": "code",
      "execution_count": 10,
      "id": "08bb4172",
      "metadata": {
        "colab": {
          "base_uri": "https://localhost:8080/"
        },
        "id": "08bb4172",
        "outputId": "acfcb18e-d4b2-4623-d85b-b2201f7c49f4"
      },
      "outputs": [
        {
          "output_type": "stream",
          "name": "stdout",
          "text": [
            "features.0.weight\n",
            "features.0.bias\n",
            "features.3.weight\n",
            "features.3.bias\n",
            "features.6.weight\n",
            "features.6.bias\n",
            "features.8.weight\n",
            "features.8.bias\n",
            "features.10.weight\n",
            "features.10.bias\n",
            "classifier.1.weight\n",
            "classifier.1.bias\n",
            "classifier.4.weight\n",
            "classifier.4.bias\n",
            "classifier.6.weight\n",
            "classifier.6.bias\n"
          ]
        }
      ],
      "source": [
        "sbs.print_trainable_parameters()"
      ]
    },
    {
      "cell_type": "markdown",
      "id": "29abdd5b",
      "metadata": {
        "id": "29abdd5b"
      },
      "source": [
        "We must freeze the model and replace the last layer. These are suggestions what layers to change (of course more layers can be left unfrozen but this requires more training data and longer times):"
      ]
    },
    {
      "cell_type": "markdown",
      "id": "d7af10c7",
      "metadata": {
        "id": "d7af10c7"
      },
      "source": [
        "![image-2.png](attachment:image-2.png)"
      ]
    },
    {
      "cell_type": "markdown",
      "id": "e7f5b2b7",
      "metadata": {
        "id": "e7f5b2b7"
      },
      "source": [
        "so let's change the last layer first to Identity to make feature extractor:"
      ]
    },
    {
      "cell_type": "code",
      "execution_count": 11,
      "id": "e59b5ae1",
      "metadata": {
        "id": "e59b5ae1"
      },
      "outputs": [],
      "source": [
        "sbs.model.classifier[6] = nn.Identity()"
      ]
    },
    {
      "cell_type": "code",
      "execution_count": 12,
      "id": "4e8f5d57",
      "metadata": {
        "id": "4e8f5d57"
      },
      "outputs": [],
      "source": [
        "sbs.freeze_model()"
      ]
    },
    {
      "cell_type": "code",
      "execution_count": 13,
      "id": "8e9c236f",
      "metadata": {
        "colab": {
          "base_uri": "https://localhost:8080/"
        },
        "id": "8e9c236f",
        "outputId": "bdb105e2-f27c-4205-bd42-e97f03c9a7e1"
      },
      "outputs": [
        {
          "output_type": "stream",
          "name": "stdout",
          "text": [
            "No trainable parameters.\n"
          ]
        }
      ],
      "source": [
        "sbs.print_trainable_parameters()"
      ]
    },
    {
      "cell_type": "markdown",
      "id": "1e5bb30d",
      "metadata": {
        "id": "1e5bb30d"
      },
      "source": [
        "We now go throught the loader batch by batch and pass the data through the model in order to generate new preprocessed datasets: "
      ]
    },
    {
      "cell_type": "code",
      "execution_count": 14,
      "id": "417f7bd7",
      "metadata": {
        "id": "417f7bd7"
      },
      "outputs": [],
      "source": [
        "device = 'cuda' if torch.cuda.is_available() else 'cpu'"
      ]
    },
    {
      "cell_type": "code",
      "execution_count": 15,
      "id": "f4b5b20b",
      "metadata": {
        "id": "f4b5b20b"
      },
      "outputs": [],
      "source": [
        "def preprocessed_dataset(model, loader, device=None):\n",
        "    \"\"\"\n",
        "    Runs all data in the loader through the model and returns a dataset.\n",
        "    \"\"\"\n",
        "    \n",
        "    features = torch.Tensor()\n",
        "    labels = torch.Tensor().type(torch.long)\n",
        "\n",
        "    if device is None:\n",
        "        device = next(model.parameters()).device\n",
        "\n",
        "    for i, (x_batch, y_batch) in enumerate(loader):\n",
        "        model.eval()\n",
        "        output = model(x_batch.to(device))\n",
        "        features = torch.cat([features, output.detach().cpu()])\n",
        "        labels = torch.cat([labels, y_batch.cpu()])\n",
        "\n",
        "    return TensorDataset(features, labels)"
      ]
    },
    {
      "cell_type": "code",
      "execution_count": 16,
      "id": "46626932",
      "metadata": {
        "id": "46626932"
      },
      "outputs": [],
      "source": [
        "def test_preprocessed_dataset():\n",
        "    x = torch.rand(10,3,244,244)\n",
        "    y = torch.rand(10,1)\n",
        "    ds = TensorDataset(x,y)\n",
        "    dl = DataLoader(ds, 16, False)\n",
        "    tpp = preprocessed_dataset(alex, dl)\n",
        "    assert tpp.tensors[0].shape == torch.Size([10, 4096])"
      ]
    },
    {
      "cell_type": "code",
      "execution_count": 17,
      "id": "a4ae23c4",
      "metadata": {
        "id": "a4ae23c4"
      },
      "outputs": [],
      "source": [
        "train_preproc = preprocessed_dataset(alex, train_loader)\n",
        "val_preproc = preprocessed_dataset(alex, val_loader)"
      ]
    },
    {
      "cell_type": "markdown",
      "id": "8ca59f4a",
      "metadata": {
        "id": "8ca59f4a"
      },
      "source": [
        "make sure that the tensort types are correct:"
      ]
    },
    {
      "cell_type": "code",
      "execution_count": 18,
      "id": "0c683b7c",
      "metadata": {
        "id": "0c683b7c"
      },
      "outputs": [],
      "source": [
        "assert next(iter(train_preproc))[0].type() == 'torch.FloatTensor'\n",
        "assert next(iter(train_preproc))[1].type() == 'torch.LongTensor' "
      ]
    },
    {
      "cell_type": "markdown",
      "id": "bb1e082b",
      "metadata": {
        "id": "bb1e082b"
      },
      "source": [
        "we now build new DataLoaders:"
      ]
    },
    {
      "cell_type": "code",
      "execution_count": 19,
      "id": "3c671be1",
      "metadata": {
        "id": "3c671be1"
      },
      "outputs": [],
      "source": [
        "new_train_loader = DataLoader(train_preproc, 16, True)\n",
        "new_val_loader = DataLoader(val_preproc, 16)"
      ]
    },
    {
      "cell_type": "markdown",
      "id": "3b1f4863",
      "metadata": {
        "id": "3b1f4863"
      },
      "source": [
        "# Top layer is new model"
      ]
    },
    {
      "cell_type": "markdown",
      "id": "8076105a",
      "metadata": {
        "id": "8076105a"
      },
      "source": [
        "Instead of modifing the `sbs.model` we can now create a brand new simple model using a fully-connected layer per table suggestions `nn.Linear(4096, num_classes)`:"
      ]
    },
    {
      "cell_type": "markdown",
      "id": "76faf7be",
      "metadata": {
        "id": "76faf7be"
      },
      "source": [
        "Let's create a new model:"
      ]
    },
    {
      "cell_type": "code",
      "execution_count": 59,
      "id": "177ce6a3",
      "metadata": {
        "colab": {
          "base_uri": "https://localhost:8080/"
        },
        "id": "177ce6a3",
        "outputId": "654843d1-cc92-4f77-8e93-c1450569e6f0"
      },
      "outputs": [
        {
          "output_type": "stream",
          "name": "stdout",
          "text": [
            "initializing\n"
          ]
        }
      ],
      "source": [
        "torch.manual_seed(17)\n",
        "top_layer = nn.Linear(4096, 3)\n",
        "multi_loss_fn = nn.CrossEntropyLoss(reduction='mean')\n",
        "optimizer_top = optim.Adam(top_layer.parameters(), lr=3e-4)\n",
        "sbs_top = StepByStep(top_layer, optimizer_top, multi_loss_fn)\n",
        "sbs_top.set_loaders(new_train_loader, new_val_loader)"
      ]
    },
    {
      "cell_type": "code",
      "source": [
        "next(sbs_top.model.parameters()).is_cuda"
      ],
      "metadata": {
        "colab": {
          "base_uri": "https://localhost:8080/"
        },
        "id": "kcEwBVk3Sbub",
        "outputId": "30c7b357-bdc4-43cf-ec39-99d34108313c"
      },
      "id": "kcEwBVk3Sbub",
      "execution_count": 60,
      "outputs": [
        {
          "output_type": "execute_result",
          "data": {
            "text/plain": [
              "True"
            ]
          },
          "metadata": {},
          "execution_count": 60
        }
      ]
    },
    {
      "cell_type": "code",
      "execution_count": 61,
      "id": "be439bac",
      "metadata": {
        "colab": {
          "base_uri": "https://localhost:8080/"
        },
        "id": "be439bac",
        "outputId": "5b47dbc3-65a9-4b2c-e86d-1761e962305c"
      },
      "outputs": [
        {
          "output_type": "stream",
          "name": "stderr",
          "text": [
            "100%|██████████| 10/10 [00:01<00:00,  5.03it/s]\n"
          ]
        }
      ],
      "source": [
        "sbs_top.train(10)"
      ]
    },
    {
      "cell_type": "code",
      "execution_count": 62,
      "id": "7cc1aa56",
      "metadata": {
        "colab": {
          "base_uri": "https://localhost:8080/",
          "height": 262
        },
        "id": "7cc1aa56",
        "outputId": "0ca9904b-098a-485f-8e97-3141c78f3a6f"
      },
      "outputs": [
        {
          "output_type": "display_data",
          "data": {
            "text/plain": [
              "<Figure size 720x288 with 1 Axes>"
            ],
            "image/png": "[encoded data removed]"
          },
          "metadata": {}
        }
      ],
      "source": [
        "_ = sbs_top.plot_losses()"
      ]
    },
    {
      "cell_type": "code",
      "execution_count": 63,
      "id": "a592eae1",
      "metadata": {
        "colab": {
          "base_uri": "https://localhost:8080/"
        },
        "id": "a592eae1",
        "outputId": "5a8166e9-9e39-4eba-946f-d5511bbcd47a"
      },
      "outputs": [
        {
          "output_type": "execute_result",
          "data": {
            "text/plain": [
              "95.97"
            ]
          },
          "metadata": {},
          "execution_count": 63
        }
      ],
      "source": [
        "sbs_top.accuracy"
      ]
    },
    {
      "cell_type": "code",
      "execution_count": 64,
      "id": "b80f575a",
      "metadata": {
        "colab": {
          "base_uri": "https://localhost:8080/"
        },
        "id": "b80f575a",
        "outputId": "d70395a5-05ea-4d43-879c-c6703e42db02"
      },
      "outputs": [
        {
          "output_type": "execute_result",
          "data": {
            "text/plain": [
              "tensor([[109, 124],\n",
              "        [124, 124],\n",
              "        [124, 124]])"
            ]
          },
          "metadata": {},
          "execution_count": 64
        }
      ],
      "source": [
        "sbs_top.accuracy_per_class"
      ]
    },
    {
      "cell_type": "markdown",
      "id": "e9bcd457",
      "metadata": {
        "id": "e9bcd457"
      },
      "source": [
        "And this is pretty good, and very fast too!"
      ]
    },
    {
      "cell_type": "markdown",
      "id": "a916bd03",
      "metadata": {
        "id": "a916bd03"
      },
      "source": [
        "For any new images that need to be evaluated thought, we will have to go through the whole model, so let's insert this new `top_layer` into a `sbs`:"
      ]
    },
    {
      "cell_type": "code",
      "execution_count": 65,
      "id": "85bbcb0a",
      "metadata": {
        "colab": {
          "base_uri": "https://localhost:8080/"
        },
        "id": "85bbcb0a",
        "outputId": "6eda4189-913b-437a-eaca-59f09171b43d"
      },
      "outputs": [
        {
          "output_type": "execute_result",
          "data": {
            "text/plain": [
              "Sequential(\n",
              "  (0): Dropout(p=0.5, inplace=False)\n",
              "  (1): Linear(in_features=9216, out_features=4096, bias=True)\n",
              "  (2): ReLU(inplace=True)\n",
              "  (3): Dropout(p=0.5, inplace=False)\n",
              "  (4): Linear(in_features=4096, out_features=4096, bias=True)\n",
              "  (5): ReLU(inplace=True)\n",
              "  (6): Linear(in_features=4096, out_features=3, bias=True)\n",
              ")"
            ]
          },
          "metadata": {},
          "execution_count": 65
        }
      ],
      "source": [
        "sbs.model.classifier[6] = top_layer\n",
        "sbs.model.classifier"
      ]
    },
    {
      "cell_type": "markdown",
      "id": "85248204",
      "metadata": {
        "id": "85248204"
      },
      "source": [
        "Let's evaluate on the old `val_loader` to see if we get the same result:"
      ]
    },
    {
      "cell_type": "code",
      "execution_count": 66,
      "id": "dabed9d1",
      "metadata": {
        "colab": {
          "base_uri": "https://localhost:8080/"
        },
        "id": "dabed9d1",
        "outputId": "baa4d1c7-342b-47f1-eb0b-9255428ee16a"
      },
      "outputs": [
        {
          "output_type": "execute_result",
          "data": {
            "text/plain": [
              "tensor([[109, 124],\n",
              "        [124, 124],\n",
              "        [124, 124]])"
            ]
          },
          "metadata": {},
          "execution_count": 66
        }
      ],
      "source": [
        "sbs.accuracy_per_class"
      ]
    },
    {
      "cell_type": "code",
      "execution_count": 67,
      "id": "23857c1b",
      "metadata": {
        "colab": {
          "base_uri": "https://localhost:8080/"
        },
        "id": "23857c1b",
        "outputId": "9eb3b129-3509-47ec-af82-ba996d2f4179"
      },
      "outputs": [
        {
          "output_type": "execute_result",
          "data": {
            "text/plain": [
              "95.97"
            ]
          },
          "metadata": {},
          "execution_count": 67
        }
      ],
      "source": [
        "sbs.accuracy"
      ]
    },
    {
      "cell_type": "markdown",
      "id": "bc996e93",
      "metadata": {
        "id": "bc996e93"
      },
      "source": [
        "yup, exactly the same."
      ]
    },
    {
      "cell_type": "markdown",
      "id": "e54e6233",
      "metadata": {
        "id": "e54e6233"
      },
      "source": [
        "# Inception Model"
      ]
    },
    {
      "cell_type": "markdown",
      "id": "dbc2304b",
      "metadata": {
        "id": "dbc2304b"
      },
      "source": [
        "Let's try Inception model. Inception has these 2 layers so we can not run the feature extraction, we have to use the full model. First we prep the data:"
      ]
    },
    {
      "cell_type": "code",
      "execution_count": 6,
      "id": "d0ccf8d9",
      "metadata": {
        "id": "d0ccf8d9"
      },
      "outputs": [],
      "source": [
        "weights = Inception_V3_Weights.IMAGENET1K_V1\n",
        "transform = weights.transforms()\n",
        "train_dataset = ImageFolder(root='rps', transform=transform)\n",
        "val_dataset = ImageFolder(root='rps-test-set', transform=transform)\n",
        "train_loader = DataLoader(train_dataset, 16, True)\n",
        "val_loader = DataLoader(val_dataset, 16)"
      ]
    },
    {
      "cell_type": "code",
      "execution_count": 7,
      "id": "fb80325e",
      "metadata": {
        "colab": {
          "base_uri": "https://localhost:8080/"
        },
        "id": "fb80325e",
        "outputId": "39bfcc43-bb1d-4092-c271-da77534e48e0"
      },
      "outputs": [
        {
          "output_type": "execute_result",
          "data": {
            "text/plain": [
              "ImageClassification(\n",
              "    crop_size=[299]\n",
              "    resize_size=[342]\n",
              "    mean=[0.485, 0.456, 0.406]\n",
              "    std=[0.229, 0.224, 0.225]\n",
              "    interpolation=InterpolationMode.BILINEAR\n",
              ")"
            ]
          },
          "metadata": {},
          "execution_count": 7
        }
      ],
      "source": [
        "transform"
      ]
    },
    {
      "cell_type": "markdown",
      "id": "04471097",
      "metadata": {
        "id": "04471097"
      },
      "source": [
        "next we set the model"
      ]
    },
    {
      "cell_type": "code",
      "execution_count": 8,
      "id": "93e342fe",
      "metadata": {
        "colab": {
          "base_uri": "https://localhost:8080/",
          "height": 87,
          "referenced_widgets": [
            "343b2dff227945289f2fe4c926febc2c",
            "d593950926cc42d19a522a41470b02db",
            "dce44c3e8abc49bc850c090a1f663d8b",
            "74c635c0511b47ca9ed44cced855291c",
            "0ffb8358d65e467b9acc0de4acbabebd",
            "cb275ad8c0424ee3a2077fd74e983d00",
            "2ca1cd5108c34bde8b2f6694a7204505",
            "4da6d6ac2fed4727a6cbd70e55c98d6a",
            "82647fc20ade49f689ff48b38091a0a4",
            "5fb85db13b074d1589681903c707fff0",
            "1bcd099654ce488cb05c3fea694f5820"
          ]
        },
        "id": "93e342fe",
        "outputId": "04c807b3-c235-4dd0-8aa1-84f383f7647e"
      },
      "outputs": [
        {
          "output_type": "stream",
          "name": "stderr",
          "text": [
            "Downloading: \"https://download.pytorch.org/models/inception_v3_google-0cc3c7bd.pth\" to /root/.cache/torch/hub/checkpoints/inception_v3_google-0cc3c7bd.pth\n"
          ]
        },
        {
          "output_type": "display_data",
          "data": {
            "text/plain": [
              "  0%|          | 0.00/104M [00:00<?, ?B/s]"
            ],
            "application/vnd.jupyter.widget-view+json": {
              "version_major": 2,
              "version_minor": 0,
              "model_id": "343b2dff227945289f2fe4c926febc2c"
            }
          },
          "metadata": {}
        }
      ],
      "source": [
        "inception = inception_v3(weights=weights)"
      ]
    },
    {
      "cell_type": "markdown",
      "id": "f5c2b3b3",
      "metadata": {
        "id": "f5c2b3b3"
      },
      "source": [
        "replace the top layers:"
      ]
    },
    {
      "cell_type": "code",
      "source": [
        "def freeze_model(model):\n",
        "    for parameter in model.parameters():\n",
        "        parameter.requires_grad = False"
      ],
      "metadata": {
        "id": "5sFgJDhLbt2Q"
      },
      "id": "5sFgJDhLbt2Q",
      "execution_count": 9,
      "outputs": []
    },
    {
      "cell_type": "code",
      "source": [
        "freeze_model(inception)"
      ],
      "metadata": {
        "id": "2o75CjSNbvCJ"
      },
      "id": "2o75CjSNbvCJ",
      "execution_count": 10,
      "outputs": []
    },
    {
      "cell_type": "code",
      "execution_count": 11,
      "id": "974bdbe5",
      "metadata": {
        "id": "974bdbe5"
      },
      "outputs": [],
      "source": [
        "inception.fc = nn.Identity()\n",
        "inception.AuxLogits.fc = nn.Identity()"
      ]
    },
    {
      "cell_type": "markdown",
      "id": "8b400980",
      "metadata": {
        "id": "8b400980"
      },
      "source": [
        "create special loss function that combines losses from 2 output layers:"
      ]
    },
    {
      "cell_type": "code",
      "execution_count": 12,
      "id": "e4fddbad",
      "metadata": {
        "id": "e4fddbad"
      },
      "outputs": [],
      "source": [
        "def inception_loss(outputs, labels):\n",
        "    try:\n",
        "        main, aux = outputs\n",
        "    except ValueError:\n",
        "        main = outputs\n",
        "        aux = None\n",
        "        \n",
        "    multi_loss_fn = nn.CrossEntropyLoss(reduction='mean')\n",
        "    loss_main = multi_loss_fn(main, labels)\n",
        "    loss_aux = multi_loss_fn(aux, labels) if aux is not None else 0\n",
        "    return loss_main + 0.4 * loss_aux"
      ]
    },
    {
      "cell_type": "code",
      "execution_count": 13,
      "id": "9643bc48",
      "metadata": {
        "id": "9643bc48"
      },
      "outputs": [],
      "source": [
        "torch.manual_seed(17)\n",
        "optimizer = optim.Adam(inception.parameters(), lr=3e-4)"
      ]
    },
    {
      "cell_type": "code",
      "execution_count": 14,
      "id": "cb37140e",
      "metadata": {
        "id": "cb37140e"
      },
      "outputs": [],
      "source": [
        "sbs_inception = StepByStep(inception, optimizer, inception_loss)\n",
        "sbs_inception.set_loaders(train_loader, val_loader)"
      ]
    },
    {
      "cell_type": "code",
      "source": [
        "len(sbs_inception.optimizer.state_dict()['param_groups'][0]['params'])"
      ],
      "metadata": {
        "id": "81zp5jnB75Nf",
        "outputId": "568181cc-9478-4359-dd9a-1550d28150b4",
        "colab": {
          "base_uri": "https://localhost:8080/"
        }
      },
      "id": "81zp5jnB75Nf",
      "execution_count": 34,
      "outputs": [
        {
          "output_type": "execute_result",
          "data": {
            "text/plain": [
              "292"
            ]
          },
          "metadata": {},
          "execution_count": 34
        }
      ]
    },
    {
      "cell_type": "code",
      "source": [
        "len(list(inception.parameters()))"
      ],
      "metadata": {
        "id": "2ecvbqYP8GNW",
        "outputId": "d9480ff7-fe57-4289-8923-240db3aefdac",
        "colab": {
          "base_uri": "https://localhost:8080/"
        }
      },
      "id": "2ecvbqYP8GNW",
      "execution_count": 31,
      "outputs": [
        {
          "output_type": "execute_result",
          "data": {
            "text/plain": [
              "292"
            ]
          },
          "metadata": {},
          "execution_count": 31
        }
      ]
    },
    {
      "cell_type": "code",
      "source": [
        "sbs_inception.optimizer = optim.Adam(inception.parameters(), lr=3e-4)"
      ],
      "metadata": {
        "id": "1i2o1U108D7m"
      },
      "id": "1i2o1U108D7m",
      "execution_count": 33,
      "outputs": []
    },
    {
      "cell_type": "code",
      "source": [
        "inception.fc = nn.Linear(2048, 3)\n",
        "inception.AuxLogits.fc = nn.Linear(768, 3)\n",
        "sbs_inception.to(sbs_inception.device)"
      ],
      "metadata": {
        "id": "kvPMf-4vewUq"
      },
      "id": "kvPMf-4vewUq",
      "execution_count": 18,
      "outputs": []
    },
    {
      "cell_type": "code",
      "execution_count": 20,
      "id": "e4d3e2bd",
      "metadata": {
        "colab": {
          "base_uri": "https://localhost:8080/"
        },
        "id": "e4d3e2bd",
        "outputId": "b5c27345-bb79-4e68-88d8-e9e3d7bcac3d"
      },
      "outputs": [
        {
          "output_type": "stream",
          "name": "stdout",
          "text": [
            "AuxLogits.fc.weight\n",
            "AuxLogits.fc.bias\n",
            "fc.weight\n",
            "fc.bias\n"
          ]
        }
      ],
      "source": [
        "sbs_inception.print_trainable_parameters()"
      ]
    },
    {
      "cell_type": "markdown",
      "id": "17903fcc",
      "metadata": {
        "id": "17903fcc"
      },
      "source": [
        "so we created new datasets with transform from inception, created new loss that handles 2 outputs (one main and one auxilary), we then froze the model and replaced the top layers. We just need to train now:"
      ]
    },
    {
      "cell_type": "code",
      "execution_count": 41,
      "id": "8ed39dc9",
      "metadata": {
        "colab": {
          "base_uri": "https://localhost:8080/"
        },
        "id": "8ed39dc9",
        "outputId": "de3fe387-ebbb-4d83-87d4-f1af71899336"
      },
      "outputs": [
        {
          "output_type": "stream",
          "name": "stderr",
          "text": [
            "100%|██████████| 4/4 [02:06<00:00, 31.60s/it]\n"
          ]
        }
      ],
      "source": [
        "sbs_inception.train(4)"
      ]
    },
    {
      "cell_type": "code",
      "execution_count": 42,
      "id": "421d53b2",
      "metadata": {
        "colab": {
          "base_uri": "https://localhost:8080/"
        },
        "id": "421d53b2",
        "outputId": "c733f095-ca85-43d9-eb59-324b47bae006"
      },
      "outputs": [
        {
          "output_type": "execute_result",
          "data": {
            "text/plain": [
              "tensor([[ 99, 124],\n",
              "        [112, 124],\n",
              "        [121, 124]])"
            ]
          },
          "metadata": {},
          "execution_count": 42
        }
      ],
      "source": [
        "sbs_inception.accuracy_per_class"
      ]
    },
    {
      "cell_type": "code",
      "execution_count": 43,
      "id": "dc9150ec",
      "metadata": {
        "colab": {
          "base_uri": "https://localhost:8080/",
          "height": 262
        },
        "id": "dc9150ec",
        "outputId": "a74a4293-ac75-430d-bd64-5af6b3078f22"
      },
      "outputs": [
        {
          "output_type": "display_data",
          "data": {
            "text/plain": [
              "<Figure size 720x288 with 1 Axes>"
            ],
            "image/png": "[encoded data removed]"
          },
          "metadata": {}
        }
      ],
      "source": [
        "sbs_inception.plot_losses()"
      ]
    },
    {
      "cell_type": "code",
      "execution_count": 44,
      "id": "b969eec7",
      "metadata": {
        "colab": {
          "base_uri": "https://localhost:8080/"
        },
        "id": "b969eec7",
        "outputId": "76683de7-fd4f-4e04-d10f-1c2d8c8a0eb8"
      },
      "outputs": [
        {
          "output_type": "execute_result",
          "data": {
            "text/plain": [
              "89.25"
            ]
          },
          "metadata": {},
          "execution_count": 44
        }
      ],
      "source": [
        "sbs_inception.accuracy"
      ]
    },
    {
      "cell_type": "markdown",
      "id": "adacd94a",
      "metadata": {
        "id": "adacd94a"
      },
      "source": [
        "# Batch normalization"
      ]
    },
    {
      "cell_type": "code",
      "execution_count": 133,
      "id": "c3c50048",
      "metadata": {
        "id": "c3c50048"
      },
      "outputs": [],
      "source": [
        "model = inception_v3(weights='DEFAULT')"
      ]
    },
    {
      "cell_type": "code",
      "source": [
        "freeze_model(model)"
      ],
      "metadata": {
        "id": "QoSAYypjdLbr"
      },
      "id": "QoSAYypjdLbr",
      "execution_count": 134,
      "outputs": []
    },
    {
      "cell_type": "code",
      "source": [
        "weights = Inception_V3_Weights.IMAGENET1K_V1\n",
        "preprocess = weights.transforms()\n",
        "preprocess"
      ],
      "metadata": {
        "id": "Zy4f6LtLdM2s",
        "outputId": "05e5dcb7-c7d1-48d6-e14b-a05c6291bbc2",
        "colab": {
          "base_uri": "https://localhost:8080/"
        }
      },
      "id": "Zy4f6LtLdM2s",
      "execution_count": 135,
      "outputs": [
        {
          "output_type": "execute_result",
          "data": {
            "text/plain": [
              "ImageClassification(\n",
              "    crop_size=[299]\n",
              "    resize_size=[342]\n",
              "    mean=[0.485, 0.456, 0.406]\n",
              "    std=[0.229, 0.224, 0.225]\n",
              "    interpolation=InterpolationMode.BILINEAR\n",
              ")"
            ]
          },
          "metadata": {},
          "execution_count": 135
        }
      ]
    },
    {
      "cell_type": "code",
      "source": [
        "torch.manual_seed(42)\n",
        "model.AuxLogits.fc = nn.Linear(768, 3)\n",
        "model.fc = nn.Linear(2048, 3)"
      ],
      "metadata": {
        "id": "tw_31aSmdOkE"
      },
      "id": "tw_31aSmdOkE",
      "execution_count": 136,
      "outputs": []
    },
    {
      "cell_type": "code",
      "source": [
        "def inception_loss(outputs, labels):\n",
        "    try:\n",
        "        main, aux = outputs\n",
        "    except ValueError:\n",
        "        main = outputs\n",
        "        aux = None\n",
        "        \n",
        "    multi_loss_fn = nn.CrossEntropyLoss(reduction='mean')\n",
        "    loss_main = multi_loss_fn(main, labels)\n",
        "    loss_aux = multi_loss_fn(aux, labels) if aux is not None else 0\n",
        "    return loss_main + 0.4 * loss_aux"
      ],
      "metadata": {
        "id": "hPpALspednWZ"
      },
      "id": "hPpALspednWZ",
      "execution_count": 147,
      "outputs": []
    },
    {
      "cell_type": "code",
      "source": [
        "optimizer_model = optim.Adam(model.parameters(), lr=3e-4)\n",
        "sbs_incep = StepByStep(model, optimizer_model, inception_loss)"
      ],
      "metadata": {
        "id": "I8tzTEH8dQfD"
      },
      "id": "I8tzTEH8dQfD",
      "execution_count": 148,
      "outputs": []
    },
    {
      "cell_type": "code",
      "source": [
        "transform"
      ],
      "metadata": {
        "id": "p_F_CEN2dbcT",
        "outputId": "cb646b8e-af26-44c2-9874-e90c8aec8ed7",
        "colab": {
          "base_uri": "https://localhost:8080/"
        }
      },
      "id": "p_F_CEN2dbcT",
      "execution_count": 149,
      "outputs": [
        {
          "output_type": "execute_result",
          "data": {
            "text/plain": [
              "ImageClassification(\n",
              "    crop_size=[299]\n",
              "    resize_size=[342]\n",
              "    mean=[0.485, 0.456, 0.406]\n",
              "    std=[0.229, 0.224, 0.225]\n",
              "    interpolation=InterpolationMode.BILINEAR\n",
              ")"
            ]
          },
          "metadata": {},
          "execution_count": 149
        }
      ]
    },
    {
      "cell_type": "code",
      "source": [
        "train_data = ImageFolder(root='rps', transform=transform)\n",
        "val_data = ImageFolder(root='rps-test-set', transform=transform)\n",
        "\n",
        "# Builds a loader of each set\n",
        "train_loader = DataLoader(train_data, batch_size=16, shuffle=True)\n",
        "val_loader = DataLoader(val_data, batch_size=16)"
      ],
      "metadata": {
        "id": "kOp8hmLGdXGq"
      },
      "id": "kOp8hmLGdXGq",
      "execution_count": 150,
      "outputs": []
    },
    {
      "cell_type": "code",
      "source": [
        "sbs_incep.set_loaders(train_loader, val_loader)\n",
        "sbs_incep.train(1)"
      ],
      "metadata": {
        "id": "8c6DVsqeddHK",
        "outputId": "2134971e-e007-4e05-da35-8b39cf9ca17f",
        "colab": {
          "base_uri": "https://localhost:8080/"
        }
      },
      "id": "8c6DVsqeddHK",
      "execution_count": 151,
      "outputs": [
        {
          "output_type": "stream",
          "name": "stderr",
          "text": [
            "100%|██████████| 1/1 [00:30<00:00, 30.97s/it]\n"
          ]
        }
      ]
    },
    {
      "cell_type": "code",
      "source": [
        "StepByStep.loader_apply(val_loader, sbs_incep.correct)"
      ],
      "metadata": {
        "id": "nELlKjjKdhmg",
        "outputId": "ed7f46f9-ab43-48ea-abb5-5334d2cef84f",
        "colab": {
          "base_uri": "https://localhost:8080/"
        }
      },
      "id": "nELlKjjKdhmg",
      "execution_count": 152,
      "outputs": [
        {
          "output_type": "execute_result",
          "data": {
            "text/plain": [
              "tensor([[110, 124],\n",
              "        [ 96, 124],\n",
              "        [120, 124]])"
            ]
          },
          "metadata": {},
          "execution_count": 152
        }
      ]
    },
    {
      "cell_type": "code",
      "source": [],
      "metadata": {
        "id": "UH23JWjSd3Rf"
      },
      "id": "UH23JWjSd3Rf",
      "execution_count": null,
      "outputs": []
    }
  ],
  "metadata": {
    "kernelspec": {
      "display_name": "pytorched",
      "language": "python",
      "name": "pytorched"
    },
    "colab": {
      "provenance": [],
      "toc_visible": true
    },
    "gpuClass": "standard",
    "accelerator": "GPU",
    "widgets": {
      "application/vnd.jupyter.widget-state+json": {
        "b55542ce1fea4f0c9b1b9ddaf3cee571": {
          "model_module": "@jupyter-widgets/controls",
          "model_name": "HBoxModel",
          "model_module_version": "1.5.0",
          "state": {
            "_dom_classes": [],
            "_model_module": "@jupyter-widgets/controls",
            "_model_module_version": "1.5.0",
            "_model_name": "HBoxModel",
            "_view_count": null,
            "_view_module": "@jupyter-widgets/controls",
            "_view_module_version": "1.5.0",
            "_view_name": "HBoxView",
            "box_style": "",
            "children": [
              "IPY_MODEL_e83a200d642e4f62a1c9dda0783d9507",
              "IPY_MODEL_7a2845eef53b4d48aeba5df0a2bb134b",
              "IPY_MODEL_d4008eb00c754ff79543400642e089d7"
            ],
            "layout": "IPY_MODEL_ce7cc5fb68f343d487b9f7206b22d590"
          }
        },
        "e83a200d642e4f62a1c9dda0783d9507": {
          "model_module": "@jupyter-widgets/controls",
          "model_name": "HTMLModel",
          "model_module_version": "1.5.0",
          "state": {
            "_dom_classes": [],
            "_model_module": "@jupyter-widgets/controls",
            "_model_module_version": "1.5.0",
            "_model_name": "HTMLModel",
            "_view_count": null,
            "_view_module": "@jupyter-widgets/controls",
            "_view_module_version": "1.5.0",
            "_view_name": "HTMLView",
            "description": "",
            "description_tooltip": null,
            "layout": "IPY_MODEL_54ba71a869114014a80146246fafdecc",
            "placeholder": "​",
            "style": "IPY_MODEL_c8c99ea958434936aa7e18eb5e5b5c02",
            "value": "100%"
          }
        },
        "7a2845eef53b4d48aeba5df0a2bb134b": {
          "model_module": "@jupyter-widgets/controls",
          "model_name": "FloatProgressModel",
          "model_module_version": "1.5.0",
          "state": {
            "_dom_classes": [],
            "_model_module": "@jupyter-widgets/controls",
            "_model_module_version": "1.5.0",
            "_model_name": "FloatProgressModel",
            "_view_count": null,
            "_view_module": "@jupyter-widgets/controls",
            "_view_module_version": "1.5.0",
            "_view_name": "ProgressView",
            "bar_style": "success",
            "description": "",
            "description_tooltip": null,
            "layout": "IPY_MODEL_1c4e058e47304c24a793f2e4d5a2fa07",
            "max": 244408911,
            "min": 0,
            "orientation": "horizontal",
            "style": "IPY_MODEL_69c4cff83006479384c0c193ad732fc4",
            "value": 244408911
          }
        },
        "d4008eb00c754ff79543400642e089d7": {
          "model_module": "@jupyter-widgets/controls",
          "model_name": "HTMLModel",
          "model_module_version": "1.5.0",
          "state": {
            "_dom_classes": [],
            "_model_module": "@jupyter-widgets/controls",
            "_model_module_version": "1.5.0",
            "_model_name": "HTMLModel",
            "_view_count": null,
            "_view_module": "@jupyter-widgets/controls",
            "_view_module_version": "1.5.0",
            "_view_name": "HTMLView",
            "description": "",
            "description_tooltip": null,
            "layout": "IPY_MODEL_627919f6e1d949909506c4c5306d85fd",
            "placeholder": "​",
            "style": "IPY_MODEL_3d077415c7744f86b7e4c19003e149d4",
            "value": " 233M/233M [00:01&lt;00:00, 168MB/s]"
          }
        },
        "ce7cc5fb68f343d487b9f7206b22d590": {
          "model_module": "@jupyter-widgets/base",
          "model_name": "LayoutModel",
          "model_module_version": "1.2.0",
          "state": {
            "_model_module": "@jupyter-widgets/base",
            "_model_module_version": "1.2.0",
            "_model_name": "LayoutModel",
            "_view_count": null,
            "_view_module": "@jupyter-widgets/base",
            "_view_module_version": "1.2.0",
            "_view_name": "LayoutView",
            "align_content": null,
            "align_items": null,
            "align_self": null,
            "border": null,
            "bottom": null,
            "display": null,
            "flex": null,
            "flex_flow": null,
            "grid_area": null,
            "grid_auto_columns": null,
            "grid_auto_flow": null,
            "grid_auto_rows": null,
            "grid_column": null,
            "grid_gap": null,
            "grid_row": null,
            "grid_template_areas": null,
            "grid_template_columns": null,
            "grid_template_rows": null,
            "height": null,
            "justify_content": null,
            "justify_items": null,
            "left": null,
            "margin": null,
            "max_height": null,
            "max_width": null,
            "min_height": null,
            "min_width": null,
            "object_fit": null,
            "object_position": null,
            "order": null,
            "overflow": null,
            "overflow_x": null,
            "overflow_y": null,
            "padding": null,
            "right": null,
            "top": null,
            "visibility": null,
            "width": null
          }
        },
        "54ba71a869114014a80146246fafdecc": {
          "model_module": "@jupyter-widgets/base",
          "model_name": "LayoutModel",
          "model_module_version": "1.2.0",
          "state": {
            "_model_module": "@jupyter-widgets/base",
            "_model_module_version": "1.2.0",
            "_model_name": "LayoutModel",
            "_view_count": null,
            "_view_module": "@jupyter-widgets/base",
            "_view_module_version": "1.2.0",
            "_view_name": "LayoutView",
            "align_content": null,
            "align_items": null,
            "align_self": null,
            "border": null,
            "bottom": null,
            "display": null,
            "flex": null,
            "flex_flow": null,
            "grid_area": null,
            "grid_auto_columns": null,
            "grid_auto_flow": null,
            "grid_auto_rows": null,
            "grid_column": null,
            "grid_gap": null,
            "grid_row": null,
            "grid_template_areas": null,
            "grid_template_columns": null,
            "grid_template_rows": null,
            "height": null,
            "justify_content": null,
            "justify_items": null,
            "left": null,
            "margin": null,
            "max_height": null,
            "max_width": null,
            "min_height": null,
            "min_width": null,
            "object_fit": null,
            "object_position": null,
            "order": null,
            "overflow": null,
            "overflow_x": null,
            "overflow_y": null,
            "padding": null,
            "right": null,
            "top": null,
            "visibility": null,
            "width": null
          }
        },
        "c8c99ea958434936aa7e18eb5e5b5c02": {
          "model_module": "@jupyter-widgets/controls",
          "model_name": "DescriptionStyleModel",
          "model_module_version": "1.5.0",
          "state": {
            "_model_module": "@jupyter-widgets/controls",
            "_model_module_version": "1.5.0",
            "_model_name": "DescriptionStyleModel",
            "_view_count": null,
            "_view_module": "@jupyter-widgets/base",
            "_view_module_version": "1.2.0",
            "_view_name": "StyleView",
            "description_width": ""
          }
        },
        "1c4e058e47304c24a793f2e4d5a2fa07": {
          "model_module": "@jupyter-widgets/base",
          "model_name": "LayoutModel",
          "model_module_version": "1.2.0",
          "state": {
            "_model_module": "@jupyter-widgets/base",
            "_model_module_version": "1.2.0",
            "_model_name": "LayoutModel",
            "_view_count": null,
            "_view_module": "@jupyter-widgets/base",
            "_view_module_version": "1.2.0",
            "_view_name": "LayoutView",
            "align_content": null,
            "align_items": null,
            "align_self": null,
            "border": null,
            "bottom": null,
            "display": null,
            "flex": null,
            "flex_flow": null,
            "grid_area": null,
            "grid_auto_columns": null,
            "grid_auto_flow": null,
            "grid_auto_rows": null,
            "grid_column": null,
            "grid_gap": null,
            "grid_row": null,
            "grid_template_areas": null,
            "grid_template_columns": null,
            "grid_template_rows": null,
            "height": null,
            "justify_content": null,
            "justify_items": null,
            "left": null,
            "margin": null,
            "max_height": null,
            "max_width": null,
            "min_height": null,
            "min_width": null,
            "object_fit": null,
            "object_position": null,
            "order": null,
            "overflow": null,
            "overflow_x": null,
            "overflow_y": null,
            "padding": null,
            "right": null,
            "top": null,
            "visibility": null,
            "width": null
          }
        },
        "69c4cff83006479384c0c193ad732fc4": {
          "model_module": "@jupyter-widgets/controls",
          "model_name": "ProgressStyleModel",
          "model_module_version": "1.5.0",
          "state": {
            "_model_module": "@jupyter-widgets/controls",
            "_model_module_version": "1.5.0",
            "_model_name": "ProgressStyleModel",
            "_view_count": null,
            "_view_module": "@jupyter-widgets/base",
            "_view_module_version": "1.2.0",
            "_view_name": "StyleView",
            "bar_color": null,
            "description_width": ""
          }
        },
        "627919f6e1d949909506c4c5306d85fd": {
          "model_module": "@jupyter-widgets/base",
          "model_name": "LayoutModel",
          "model_module_version": "1.2.0",
          "state": {
            "_model_module": "@jupyter-widgets/base",
            "_model_module_version": "1.2.0",
            "_model_name": "LayoutModel",
            "_view_count": null,
            "_view_module": "@jupyter-widgets/base",
            "_view_module_version": "1.2.0",
            "_view_name": "LayoutView",
            "align_content": null,
            "align_items": null,
            "align_self": null,
            "border": null,
            "bottom": null,
            "display": null,
            "flex": null,
            "flex_flow": null,
            "grid_area": null,
            "grid_auto_columns": null,
            "grid_auto_flow": null,
            "grid_auto_rows": null,
            "grid_column": null,
            "grid_gap": null,
            "grid_row": null,
            "grid_template_areas": null,
            "grid_template_columns": null,
            "grid_template_rows": null,
            "height": null,
            "justify_content": null,
            "justify_items": null,
            "left": null,
            "margin": null,
            "max_height": null,
            "max_width": null,
            "min_height": null,
            "min_width": null,
            "object_fit": null,
            "object_position": null,
            "order": null,
            "overflow": null,
            "overflow_x": null,
            "overflow_y": null,
            "padding": null,
            "right": null,
            "top": null,
            "visibility": null,
            "width": null
          }
        },
        "3d077415c7744f86b7e4c19003e149d4": {
          "model_module": "@jupyter-widgets/controls",
          "model_name": "DescriptionStyleModel",
          "model_module_version": "1.5.0",
          "state": {
            "_model_module": "@jupyter-widgets/controls",
            "_model_module_version": "1.5.0",
            "_model_name": "DescriptionStyleModel",
            "_view_count": null,
            "_view_module": "@jupyter-widgets/base",
            "_view_module_version": "1.2.0",
            "_view_name": "StyleView",
            "description_width": ""
          }
        },
        "343b2dff227945289f2fe4c926febc2c": {
          "model_module": "@jupyter-widgets/controls",
          "model_name": "HBoxModel",
          "model_module_version": "1.5.0",
          "state": {
            "_dom_classes": [],
            "_model_module": "@jupyter-widgets/controls",
            "_model_module_version": "1.5.0",
            "_model_name": "HBoxModel",
            "_view_count": null,
            "_view_module": "@jupyter-widgets/controls",
            "_view_module_version": "1.5.0",
            "_view_name": "HBoxView",
            "box_style": "",
            "children": [
              "IPY_MODEL_d593950926cc42d19a522a41470b02db",
              "IPY_MODEL_dce44c3e8abc49bc850c090a1f663d8b",
              "IPY_MODEL_74c635c0511b47ca9ed44cced855291c"
            ],
            "layout": "IPY_MODEL_0ffb8358d65e467b9acc0de4acbabebd"
          }
        },
        "d593950926cc42d19a522a41470b02db": {
          "model_module": "@jupyter-widgets/controls",
          "model_name": "HTMLModel",
          "model_module_version": "1.5.0",
          "state": {
            "_dom_classes": [],
            "_model_module": "@jupyter-widgets/controls",
            "_model_module_version": "1.5.0",
            "_model_name": "HTMLModel",
            "_view_count": null,
            "_view_module": "@jupyter-widgets/controls",
            "_view_module_version": "1.5.0",
            "_view_name": "HTMLView",
            "description": "",
            "description_tooltip": null,
            "layout": "IPY_MODEL_cb275ad8c0424ee3a2077fd74e983d00",
            "placeholder": "​",
            "style": "IPY_MODEL_2ca1cd5108c34bde8b2f6694a7204505",
            "value": "100%"
          }
        },
        "dce44c3e8abc49bc850c090a1f663d8b": {
          "model_module": "@jupyter-widgets/controls",
          "model_name": "FloatProgressModel",
          "model_module_version": "1.5.0",
          "state": {
            "_dom_classes": [],
            "_model_module": "@jupyter-widgets/controls",
            "_model_module_version": "1.5.0",
            "_model_name": "FloatProgressModel",
            "_view_count": null,
            "_view_module": "@jupyter-widgets/controls",
            "_view_module_version": "1.5.0",
            "_view_name": "ProgressView",
            "bar_style": "success",
            "description": "",
            "description_tooltip": null,
            "layout": "IPY_MODEL_4da6d6ac2fed4727a6cbd70e55c98d6a",
            "max": 108949747,
            "min": 0,
            "orientation": "horizontal",
            "style": "IPY_MODEL_82647fc20ade49f689ff48b38091a0a4",
            "value": 108949747
          }
        },
        "74c635c0511b47ca9ed44cced855291c": {
          "model_module": "@jupyter-widgets/controls",
          "model_name": "HTMLModel",
          "model_module_version": "1.5.0",
          "state": {
            "_dom_classes": [],
            "_model_module": "@jupyter-widgets/controls",
            "_model_module_version": "1.5.0",
            "_model_name": "HTMLModel",
            "_view_count": null,
            "_view_module": "@jupyter-widgets/controls",
            "_view_module_version": "1.5.0",
            "_view_name": "HTMLView",
            "description": "",
            "description_tooltip": null,
            "layout": "IPY_MODEL_5fb85db13b074d1589681903c707fff0",
            "placeholder": "​",
            "style": "IPY_MODEL_1bcd099654ce488cb05c3fea694f5820",
            "value": " 104M/104M [00:00&lt;00:00, 263MB/s]"
          }
        },
        "0ffb8358d65e467b9acc0de4acbabebd": {
          "model_module": "@jupyter-widgets/base",
          "model_name": "LayoutModel",
          "model_module_version": "1.2.0",
          "state": {
            "_model_module": "@jupyter-widgets/base",
            "_model_module_version": "1.2.0",
            "_model_name": "LayoutModel",
            "_view_count": null,
            "_view_module": "@jupyter-widgets/base",
            "_view_module_version": "1.2.0",
            "_view_name": "LayoutView",
            "align_content": null,
            "align_items": null,
            "align_self": null,
            "border": null,
            "bottom": null,
            "display": null,
            "flex": null,
            "flex_flow": null,
            "grid_area": null,
            "grid_auto_columns": null,
            "grid_auto_flow": null,
            "grid_auto_rows": null,
            "grid_column": null,
            "grid_gap": null,
            "grid_row": null,
            "grid_template_areas": null,
            "grid_template_columns": null,
            "grid_template_rows": null,
            "height": null,
            "justify_content": null,
            "justify_items": null,
            "left": null,
            "margin": null,
            "max_height": null,
            "max_width": null,
            "min_height": null,
            "min_width": null,
            "object_fit": null,
            "object_position": null,
            "order": null,
            "overflow": null,
            "overflow_x": null,
            "overflow_y": null,
            "padding": null,
            "right": null,
            "top": null,
            "visibility": null,
            "width": null
          }
        },
        "cb275ad8c0424ee3a2077fd74e983d00": {
          "model_module": "@jupyter-widgets/base",
          "model_name": "LayoutModel",
          "model_module_version": "1.2.0",
          "state": {
            "_model_module": "@jupyter-widgets/base",
            "_model_module_version": "1.2.0",
            "_model_name": "LayoutModel",
            "_view_count": null,
            "_view_module": "@jupyter-widgets/base",
            "_view_module_version": "1.2.0",
            "_view_name": "LayoutView",
            "align_content": null,
            "align_items": null,
            "align_self": null,
            "border": null,
            "bottom": null,
            "display": null,
            "flex": null,
            "flex_flow": null,
            "grid_area": null,
            "grid_auto_columns": null,
            "grid_auto_flow": null,
            "grid_auto_rows": null,
            "grid_column": null,
            "grid_gap": null,
            "grid_row": null,
            "grid_template_areas": null,
            "grid_template_columns": null,
            "grid_template_rows": null,
            "height": null,
            "justify_content": null,
            "justify_items": null,
            "left": null,
            "margin": null,
            "max_height": null,
            "max_width": null,
            "min_height": null,
            "min_width": null,
            "object_fit": null,
            "object_position": null,
            "order": null,
            "overflow": null,
            "overflow_x": null,
            "overflow_y": null,
            "padding": null,
            "right": null,
            "top": null,
            "visibility": null,
            "width": null
          }
        },
        "2ca1cd5108c34bde8b2f6694a7204505": {
          "model_module": "@jupyter-widgets/controls",
          "model_name": "DescriptionStyleModel",
          "model_module_version": "1.5.0",
          "state": {
            "_model_module": "@jupyter-widgets/controls",
            "_model_module_version": "1.5.0",
            "_model_name": "DescriptionStyleModel",
            "_view_count": null,
            "_view_module": "@jupyter-widgets/base",
            "_view_module_version": "1.2.0",
            "_view_name": "StyleView",
            "description_width": ""
          }
        },
        "4da6d6ac2fed4727a6cbd70e55c98d6a": {
          "model_module": "@jupyter-widgets/base",
          "model_name": "LayoutModel",
          "model_module_version": "1.2.0",
          "state": {
            "_model_module": "@jupyter-widgets/base",
            "_model_module_version": "1.2.0",
            "_model_name": "LayoutModel",
            "_view_count": null,
            "_view_module": "@jupyter-widgets/base",
            "_view_module_version": "1.2.0",
            "_view_name": "LayoutView",
            "align_content": null,
            "align_items": null,
            "align_self": null,
            "border": null,
            "bottom": null,
            "display": null,
            "flex": null,
            "flex_flow": null,
            "grid_area": null,
            "grid_auto_columns": null,
            "grid_auto_flow": null,
            "grid_auto_rows": null,
            "grid_column": null,
            "grid_gap": null,
            "grid_row": null,
            "grid_template_areas": null,
            "grid_template_columns": null,
            "grid_template_rows": null,
            "height": null,
            "justify_content": null,
            "justify_items": null,
            "left": null,
            "margin": null,
            "max_height": null,
            "max_width": null,
            "min_height": null,
            "min_width": null,
            "object_fit": null,
            "object_position": null,
            "order": null,
            "overflow": null,
            "overflow_x": null,
            "overflow_y": null,
            "padding": null,
            "right": null,
            "top": null,
            "visibility": null,
            "width": null
          }
        },
        "82647fc20ade49f689ff48b38091a0a4": {
          "model_module": "@jupyter-widgets/controls",
          "model_name": "ProgressStyleModel",
          "model_module_version": "1.5.0",
          "state": {
            "_model_module": "@jupyter-widgets/controls",
            "_model_module_version": "1.5.0",
            "_model_name": "ProgressStyleModel",
            "_view_count": null,
            "_view_module": "@jupyter-widgets/base",
            "_view_module_version": "1.2.0",
            "_view_name": "StyleView",
            "bar_color": null,
            "description_width": ""
          }
        },
        "5fb85db13b074d1589681903c707fff0": {
          "model_module": "@jupyter-widgets/base",
          "model_name": "LayoutModel",
          "model_module_version": "1.2.0",
          "state": {
            "_model_module": "@jupyter-widgets/base",
            "_model_module_version": "1.2.0",
            "_model_name": "LayoutModel",
            "_view_count": null,
            "_view_module": "@jupyter-widgets/base",
            "_view_module_version": "1.2.0",
            "_view_name": "LayoutView",
            "align_content": null,
            "align_items": null,
            "align_self": null,
            "border": null,
            "bottom": null,
            "display": null,
            "flex": null,
            "flex_flow": null,
            "grid_area": null,
            "grid_auto_columns": null,
            "grid_auto_flow": null,
            "grid_auto_rows": null,
            "grid_column": null,
            "grid_gap": null,
            "grid_row": null,
            "grid_template_areas": null,
            "grid_template_columns": null,
            "grid_template_rows": null,
            "height": null,
            "justify_content": null,
            "justify_items": null,
            "left": null,
            "margin": null,
            "max_height": null,
            "max_width": null,
            "min_height": null,
            "min_width": null,
            "object_fit": null,
            "object_position": null,
            "order": null,
            "overflow": null,
            "overflow_x": null,
            "overflow_y": null,
            "padding": null,
            "right": null,
            "top": null,
            "visibility": null,
            "width": null
          }
        },
        "1bcd099654ce488cb05c3fea694f5820": {
          "model_module": "@jupyter-widgets/controls",
          "model_name": "DescriptionStyleModel",
          "model_module_version": "1.5.0",
          "state": {
            "_model_module": "@jupyter-widgets/controls",
            "_model_module_version": "1.5.0",
            "_model_name": "DescriptionStyleModel",
            "_view_count": null,
            "_view_module": "@jupyter-widgets/base",
            "_view_module_version": "1.2.0",
            "_view_name": "StyleView",
            "description_width": ""
          }
        }
      }
    }
  },
  "nbformat": 4,
  "nbformat_minor": 5
}
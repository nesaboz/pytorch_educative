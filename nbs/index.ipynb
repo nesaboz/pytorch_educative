{
 "cells": [
  {
   "cell_type": "markdown",
   "metadata": {},
   "source": [
    "# Summary"
   ]
  },
  {
   "cell_type": "markdown",
   "metadata": {},
   "source": [
    "This repo covers my journey in variety of existing Machine Learning projects. Please follow the links in the sidebar.\n",
    "\n",
    "In addition, you can also see my **own** projects: \\\n",
    "- [Solar panel detection project](https://github.com/nesaboz/solar)\n",
    "\n",
    "Also useful: [my cheat-sheet](https://nesaboz.github.io/cheat-sheet/)\n",
    "\n",
    "References: \\\n",
    "- PyTorch: Step by Step [books](https://pytorchstepbystep.com/) (3 of them) by Daniel Voigt Godoy \\\n",
    "- Excellent [course](https://atcold.github.io/pytorch-Deep-Learning/) by Yann LeCun & Alfredo Canziani \\\n",
    "- Practical Deep Learning for Coders [course](https://course.fast.ai/) by Jeremy Howard.\n"
   ]
  },
  {
   "cell_type": "markdown",
   "source": [
    "\n",
    "\n"
   ],
   "metadata": {
    "collapsed": false
   }
  }
 ],
 "metadata": {
  "kernelspec": {
   "display_name": "Python 3 (ipykernel)",
   "language": "python",
   "name": "python3"
  }
 },
 "nbformat": 4,
 "nbformat_minor": 4
}

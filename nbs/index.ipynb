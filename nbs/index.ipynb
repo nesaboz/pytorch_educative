{
 "cells": [
  {
   "cell_type": "markdown",
   "metadata": {},
   "source": [
    "# Summary"
   ]
  },
  {
   "cell_type": "markdown",
   "metadata": {},
   "source": [
    "This repo covers my journey to study PyTorch. Following a principle to never learn from just one book, I will be experimenting with many projects borrowed from following 3 resources:\n",
    "\n",
    "- PyTorch: Step by Step [books](https://pytorchstepbystep.com/) (3 of them) by Daniel Voigt Godoy\n",
    "- Excellent [course](https://atcold.github.io/pytorch-Deep-Learning/) by Yann LeCun & Alfredo Canziani\n",
    "- Practical Deep Learning for Coders [course](https://course.fast.ai/) by Jeremy Howard.\n"
   ]
  }
 ],
 "metadata": {
  "kernelspec": {
   "display_name": "Python 3 (ipykernel)",
   "language": "python",
   "name": "python3"
  }
 },
 "nbformat": 4,
 "nbformat_minor": 4
}
